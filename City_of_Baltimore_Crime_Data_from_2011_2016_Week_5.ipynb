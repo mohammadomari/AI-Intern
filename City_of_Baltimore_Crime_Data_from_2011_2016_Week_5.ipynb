{
  "nbformat": 4,
  "nbformat_minor": 0,
  "metadata": {
    "colab": {
      "provenance": []
    },
    "kernelspec": {
      "name": "python3",
      "display_name": "Python 3"
    },
    "language_info": {
      "name": "python"
    }
  },
  "cells": [
    {
      "cell_type": "code",
      "execution_count": 1,
      "metadata": {
        "id": "U8Az9g-h1XRg"
      },
      "outputs": [],
      "source": [
        "import pandas as pd\n",
        "import numpy as np\n",
        "import matplotlib.pyplot as plt\n",
        "from datetime import datetime, time\n",
        "import seaborn as sns\n",
        "%matplotlib inline"
      ]
    },
    {
      "cell_type": "markdown",
      "source": [
        "##City of Baltimore\n",
        "## Crime Data from 2011-2016"
      ],
      "metadata": {
        "id": "wEDZCTJb2GcR"
      }
    },
    {
      "cell_type": "markdown",
      "source": [
        "## Preprocessing and EDA of the data"
      ],
      "metadata": {
        "id": "0h9VktN51DsP"
      }
    },
    {
      "cell_type": "code",
      "source": [
        "df= pd.read_csv('Crime_Rate_Data_Baltimore.csv')"
      ],
      "metadata": {
        "id": "82j7nsZs1ulm"
      },
      "execution_count": 2,
      "outputs": []
    },
    {
      "cell_type": "code",
      "source": [
        "df.head()"
      ],
      "metadata": {
        "colab": {
          "base_uri": "https://localhost:8080/",
          "height": 345
        },
        "id": "cCjEo91ZhVO9",
        "outputId": "233b9627-a0a1-41c6-d44e-f4d2737c9e53"
      },
      "execution_count": 3,
      "outputs": [
        {
          "output_type": "execute_result",
          "data": {
            "text/plain": [
              "    CrimeDate CrimeTime CrimeCode            Location           Description  \\\n",
              "0  11/12/2016  02:35:00        3B   300 SAINT PAUL PL      ROBBERY - STREET   \n",
              "1  11/12/2016  02:56:00       3CF      800 S BROADWAY  ROBBERY - COMMERCIAL   \n",
              "2  11/12/2016  03:00:00        6D    1500 PENTWOOD RD     LARCENY FROM AUTO   \n",
              "3  11/12/2016  03:00:00        6D      6600 MILTON LN     LARCENY FROM AUTO   \n",
              "4  11/12/2016  03:00:00        6E  300 W BALTIMORE ST               LARCENY   \n",
              "\n",
              "  Inside/Outside   Weapon   Post      District                Neighborhood  \\\n",
              "0              O      NaN  111.0       CENTRAL                    Downtown   \n",
              "1              I  FIREARM  213.0  SOUTHEASTERN                 Fells Point   \n",
              "2              O      NaN  413.0  NORTHEASTERN  Stonewood-Pentwood-Winston   \n",
              "3              O      NaN  424.0  NORTHEASTERN                   Westfield   \n",
              "4              O      NaN  111.0       CENTRAL                    Downtown   \n",
              "\n",
              "                        Location 1  Total Incidents  \n",
              "0  (39.2924100000, -76.6140800000)                1  \n",
              "1  (39.2824200000, -76.5928800000)                1  \n",
              "2  (39.3480500000, -76.5883400000)                1  \n",
              "3  (39.3626300000, -76.5516100000)                1  \n",
              "4  (39.2893800000, -76.6197100000)                1  "
            ],
            "text/html": [
              "\n",
              "  <div id=\"df-a79fc6df-a53e-4d67-91ee-57e67ae66aab\" class=\"colab-df-container\">\n",
              "    <div>\n",
              "<style scoped>\n",
              "    .dataframe tbody tr th:only-of-type {\n",
              "        vertical-align: middle;\n",
              "    }\n",
              "\n",
              "    .dataframe tbody tr th {\n",
              "        vertical-align: top;\n",
              "    }\n",
              "\n",
              "    .dataframe thead th {\n",
              "        text-align: right;\n",
              "    }\n",
              "</style>\n",
              "<table border=\"1\" class=\"dataframe\">\n",
              "  <thead>\n",
              "    <tr style=\"text-align: right;\">\n",
              "      <th></th>\n",
              "      <th>CrimeDate</th>\n",
              "      <th>CrimeTime</th>\n",
              "      <th>CrimeCode</th>\n",
              "      <th>Location</th>\n",
              "      <th>Description</th>\n",
              "      <th>Inside/Outside</th>\n",
              "      <th>Weapon</th>\n",
              "      <th>Post</th>\n",
              "      <th>District</th>\n",
              "      <th>Neighborhood</th>\n",
              "      <th>Location 1</th>\n",
              "      <th>Total Incidents</th>\n",
              "    </tr>\n",
              "  </thead>\n",
              "  <tbody>\n",
              "    <tr>\n",
              "      <th>0</th>\n",
              "      <td>11/12/2016</td>\n",
              "      <td>02:35:00</td>\n",
              "      <td>3B</td>\n",
              "      <td>300 SAINT PAUL PL</td>\n",
              "      <td>ROBBERY - STREET</td>\n",
              "      <td>O</td>\n",
              "      <td>NaN</td>\n",
              "      <td>111.0</td>\n",
              "      <td>CENTRAL</td>\n",
              "      <td>Downtown</td>\n",
              "      <td>(39.2924100000, -76.6140800000)</td>\n",
              "      <td>1</td>\n",
              "    </tr>\n",
              "    <tr>\n",
              "      <th>1</th>\n",
              "      <td>11/12/2016</td>\n",
              "      <td>02:56:00</td>\n",
              "      <td>3CF</td>\n",
              "      <td>800 S BROADWAY</td>\n",
              "      <td>ROBBERY - COMMERCIAL</td>\n",
              "      <td>I</td>\n",
              "      <td>FIREARM</td>\n",
              "      <td>213.0</td>\n",
              "      <td>SOUTHEASTERN</td>\n",
              "      <td>Fells Point</td>\n",
              "      <td>(39.2824200000, -76.5928800000)</td>\n",
              "      <td>1</td>\n",
              "    </tr>\n",
              "    <tr>\n",
              "      <th>2</th>\n",
              "      <td>11/12/2016</td>\n",
              "      <td>03:00:00</td>\n",
              "      <td>6D</td>\n",
              "      <td>1500 PENTWOOD RD</td>\n",
              "      <td>LARCENY FROM AUTO</td>\n",
              "      <td>O</td>\n",
              "      <td>NaN</td>\n",
              "      <td>413.0</td>\n",
              "      <td>NORTHEASTERN</td>\n",
              "      <td>Stonewood-Pentwood-Winston</td>\n",
              "      <td>(39.3480500000, -76.5883400000)</td>\n",
              "      <td>1</td>\n",
              "    </tr>\n",
              "    <tr>\n",
              "      <th>3</th>\n",
              "      <td>11/12/2016</td>\n",
              "      <td>03:00:00</td>\n",
              "      <td>6D</td>\n",
              "      <td>6600 MILTON LN</td>\n",
              "      <td>LARCENY FROM AUTO</td>\n",
              "      <td>O</td>\n",
              "      <td>NaN</td>\n",
              "      <td>424.0</td>\n",
              "      <td>NORTHEASTERN</td>\n",
              "      <td>Westfield</td>\n",
              "      <td>(39.3626300000, -76.5516100000)</td>\n",
              "      <td>1</td>\n",
              "    </tr>\n",
              "    <tr>\n",
              "      <th>4</th>\n",
              "      <td>11/12/2016</td>\n",
              "      <td>03:00:00</td>\n",
              "      <td>6E</td>\n",
              "      <td>300 W BALTIMORE ST</td>\n",
              "      <td>LARCENY</td>\n",
              "      <td>O</td>\n",
              "      <td>NaN</td>\n",
              "      <td>111.0</td>\n",
              "      <td>CENTRAL</td>\n",
              "      <td>Downtown</td>\n",
              "      <td>(39.2893800000, -76.6197100000)</td>\n",
              "      <td>1</td>\n",
              "    </tr>\n",
              "  </tbody>\n",
              "</table>\n",
              "</div>\n",
              "    <div class=\"colab-df-buttons\">\n",
              "\n",
              "  <div class=\"colab-df-container\">\n",
              "    <button class=\"colab-df-convert\" onclick=\"convertToInteractive('df-a79fc6df-a53e-4d67-91ee-57e67ae66aab')\"\n",
              "            title=\"Convert this dataframe to an interactive table.\"\n",
              "            style=\"display:none;\">\n",
              "\n",
              "  <svg xmlns=\"http://www.w3.org/2000/svg\" height=\"24px\" viewBox=\"0 -960 960 960\">\n",
              "    <path d=\"M120-120v-720h720v720H120Zm60-500h600v-160H180v160Zm220 220h160v-160H400v160Zm0 220h160v-160H400v160ZM180-400h160v-160H180v160Zm440 0h160v-160H620v160ZM180-180h160v-160H180v160Zm440 0h160v-160H620v160Z\"/>\n",
              "  </svg>\n",
              "    </button>\n",
              "\n",
              "  <style>\n",
              "    .colab-df-container {\n",
              "      display:flex;\n",
              "      gap: 12px;\n",
              "    }\n",
              "\n",
              "    .colab-df-convert {\n",
              "      background-color: #E8F0FE;\n",
              "      border: none;\n",
              "      border-radius: 50%;\n",
              "      cursor: pointer;\n",
              "      display: none;\n",
              "      fill: #1967D2;\n",
              "      height: 32px;\n",
              "      padding: 0 0 0 0;\n",
              "      width: 32px;\n",
              "    }\n",
              "\n",
              "    .colab-df-convert:hover {\n",
              "      background-color: #E2EBFA;\n",
              "      box-shadow: 0px 1px 2px rgba(60, 64, 67, 0.3), 0px 1px 3px 1px rgba(60, 64, 67, 0.15);\n",
              "      fill: #174EA6;\n",
              "    }\n",
              "\n",
              "    .colab-df-buttons div {\n",
              "      margin-bottom: 4px;\n",
              "    }\n",
              "\n",
              "    [theme=dark] .colab-df-convert {\n",
              "      background-color: #3B4455;\n",
              "      fill: #D2E3FC;\n",
              "    }\n",
              "\n",
              "    [theme=dark] .colab-df-convert:hover {\n",
              "      background-color: #434B5C;\n",
              "      box-shadow: 0px 1px 3px 1px rgba(0, 0, 0, 0.15);\n",
              "      filter: drop-shadow(0px 1px 2px rgba(0, 0, 0, 0.3));\n",
              "      fill: #FFFFFF;\n",
              "    }\n",
              "  </style>\n",
              "\n",
              "    <script>\n",
              "      const buttonEl =\n",
              "        document.querySelector('#df-a79fc6df-a53e-4d67-91ee-57e67ae66aab button.colab-df-convert');\n",
              "      buttonEl.style.display =\n",
              "        google.colab.kernel.accessAllowed ? 'block' : 'none';\n",
              "\n",
              "      async function convertToInteractive(key) {\n",
              "        const element = document.querySelector('#df-a79fc6df-a53e-4d67-91ee-57e67ae66aab');\n",
              "        const dataTable =\n",
              "          await google.colab.kernel.invokeFunction('convertToInteractive',\n",
              "                                                    [key], {});\n",
              "        if (!dataTable) return;\n",
              "\n",
              "        const docLinkHtml = 'Like what you see? Visit the ' +\n",
              "          '<a target=\"_blank\" href=https://colab.research.google.com/notebooks/data_table.ipynb>data table notebook</a>'\n",
              "          + ' to learn more about interactive tables.';\n",
              "        element.innerHTML = '';\n",
              "        dataTable['output_type'] = 'display_data';\n",
              "        await google.colab.output.renderOutput(dataTable, element);\n",
              "        const docLink = document.createElement('div');\n",
              "        docLink.innerHTML = docLinkHtml;\n",
              "        element.appendChild(docLink);\n",
              "      }\n",
              "    </script>\n",
              "  </div>\n",
              "\n",
              "\n",
              "<div id=\"df-603a5563-3339-41b9-aad7-e6fe513406d0\">\n",
              "  <button class=\"colab-df-quickchart\" onclick=\"quickchart('df-603a5563-3339-41b9-aad7-e6fe513406d0')\"\n",
              "            title=\"Suggest charts.\"\n",
              "            style=\"display:none;\">\n",
              "\n",
              "<svg xmlns=\"http://www.w3.org/2000/svg\" height=\"24px\"viewBox=\"0 0 24 24\"\n",
              "     width=\"24px\">\n",
              "    <g>\n",
              "        <path d=\"M19 3H5c-1.1 0-2 .9-2 2v14c0 1.1.9 2 2 2h14c1.1 0 2-.9 2-2V5c0-1.1-.9-2-2-2zM9 17H7v-7h2v7zm4 0h-2V7h2v10zm4 0h-2v-4h2v4z\"/>\n",
              "    </g>\n",
              "</svg>\n",
              "  </button>\n",
              "\n",
              "<style>\n",
              "  .colab-df-quickchart {\n",
              "      --bg-color: #E8F0FE;\n",
              "      --fill-color: #1967D2;\n",
              "      --hover-bg-color: #E2EBFA;\n",
              "      --hover-fill-color: #174EA6;\n",
              "      --disabled-fill-color: #AAA;\n",
              "      --disabled-bg-color: #DDD;\n",
              "  }\n",
              "\n",
              "  [theme=dark] .colab-df-quickchart {\n",
              "      --bg-color: #3B4455;\n",
              "      --fill-color: #D2E3FC;\n",
              "      --hover-bg-color: #434B5C;\n",
              "      --hover-fill-color: #FFFFFF;\n",
              "      --disabled-bg-color: #3B4455;\n",
              "      --disabled-fill-color: #666;\n",
              "  }\n",
              "\n",
              "  .colab-df-quickchart {\n",
              "    background-color: var(--bg-color);\n",
              "    border: none;\n",
              "    border-radius: 50%;\n",
              "    cursor: pointer;\n",
              "    display: none;\n",
              "    fill: var(--fill-color);\n",
              "    height: 32px;\n",
              "    padding: 0;\n",
              "    width: 32px;\n",
              "  }\n",
              "\n",
              "  .colab-df-quickchart:hover {\n",
              "    background-color: var(--hover-bg-color);\n",
              "    box-shadow: 0 1px 2px rgba(60, 64, 67, 0.3), 0 1px 3px 1px rgba(60, 64, 67, 0.15);\n",
              "    fill: var(--button-hover-fill-color);\n",
              "  }\n",
              "\n",
              "  .colab-df-quickchart-complete:disabled,\n",
              "  .colab-df-quickchart-complete:disabled:hover {\n",
              "    background-color: var(--disabled-bg-color);\n",
              "    fill: var(--disabled-fill-color);\n",
              "    box-shadow: none;\n",
              "  }\n",
              "\n",
              "  .colab-df-spinner {\n",
              "    border: 2px solid var(--fill-color);\n",
              "    border-color: transparent;\n",
              "    border-bottom-color: var(--fill-color);\n",
              "    animation:\n",
              "      spin 1s steps(1) infinite;\n",
              "  }\n",
              "\n",
              "  @keyframes spin {\n",
              "    0% {\n",
              "      border-color: transparent;\n",
              "      border-bottom-color: var(--fill-color);\n",
              "      border-left-color: var(--fill-color);\n",
              "    }\n",
              "    20% {\n",
              "      border-color: transparent;\n",
              "      border-left-color: var(--fill-color);\n",
              "      border-top-color: var(--fill-color);\n",
              "    }\n",
              "    30% {\n",
              "      border-color: transparent;\n",
              "      border-left-color: var(--fill-color);\n",
              "      border-top-color: var(--fill-color);\n",
              "      border-right-color: var(--fill-color);\n",
              "    }\n",
              "    40% {\n",
              "      border-color: transparent;\n",
              "      border-right-color: var(--fill-color);\n",
              "      border-top-color: var(--fill-color);\n",
              "    }\n",
              "    60% {\n",
              "      border-color: transparent;\n",
              "      border-right-color: var(--fill-color);\n",
              "    }\n",
              "    80% {\n",
              "      border-color: transparent;\n",
              "      border-right-color: var(--fill-color);\n",
              "      border-bottom-color: var(--fill-color);\n",
              "    }\n",
              "    90% {\n",
              "      border-color: transparent;\n",
              "      border-bottom-color: var(--fill-color);\n",
              "    }\n",
              "  }\n",
              "</style>\n",
              "\n",
              "  <script>\n",
              "    async function quickchart(key) {\n",
              "      const quickchartButtonEl =\n",
              "        document.querySelector('#' + key + ' button');\n",
              "      quickchartButtonEl.disabled = true;  // To prevent multiple clicks.\n",
              "      quickchartButtonEl.classList.add('colab-df-spinner');\n",
              "      try {\n",
              "        const charts = await google.colab.kernel.invokeFunction(\n",
              "            'suggestCharts', [key], {});\n",
              "      } catch (error) {\n",
              "        console.error('Error during call to suggestCharts:', error);\n",
              "      }\n",
              "      quickchartButtonEl.classList.remove('colab-df-spinner');\n",
              "      quickchartButtonEl.classList.add('colab-df-quickchart-complete');\n",
              "    }\n",
              "    (() => {\n",
              "      let quickchartButtonEl =\n",
              "        document.querySelector('#df-603a5563-3339-41b9-aad7-e6fe513406d0 button');\n",
              "      quickchartButtonEl.style.display =\n",
              "        google.colab.kernel.accessAllowed ? 'block' : 'none';\n",
              "    })();\n",
              "  </script>\n",
              "</div>\n",
              "    </div>\n",
              "  </div>\n"
            ]
          },
          "metadata": {},
          "execution_count": 3
        }
      ]
    },
    {
      "cell_type": "code",
      "source": [
        "df.tail()"
      ],
      "metadata": {
        "colab": {
          "base_uri": "https://localhost:8080/",
          "height": 397
        },
        "id": "COVoXRwj2U7k",
        "outputId": "7659314d-ca23-49c2-c15d-8aff8bab5856"
      },
      "execution_count": 4,
      "outputs": [
        {
          "output_type": "execute_result",
          "data": {
            "text/plain": [
              "         CrimeDate CrimeTime CrimeCode          Location     Description  \\\n",
              "285802  01/01/2011  22:15:00        4D   6800 MCCLEAN BD    AGG. ASSAULT   \n",
              "285803  01/01/2011  22:30:00        6J  3000 ODONNELL ST         LARCENY   \n",
              "285804  01/01/2011  23:00:00        7A    2500 ARUNAH AV      AUTO THEFT   \n",
              "285805  01/01/2011  23:25:00        4E   100 N MONROE ST  COMMON ASSAULT   \n",
              "285806  01/01/2011  23:38:00        4D  800 N FREMONT AV    AGG. ASSAULT   \n",
              "\n",
              "       Inside/Outside Weapon   Post      District  \\\n",
              "285802              I  HANDS  423.0  NORTHEASTERN   \n",
              "285803              I    NaN  232.0  SOUTHEASTERN   \n",
              "285804              O    NaN  721.0       WESTERN   \n",
              "285805              I  HANDS  714.0       WESTERN   \n",
              "285806              I  HANDS  123.0       WESTERN   \n",
              "\n",
              "                           Neighborhood                       Location 1  \\\n",
              "285802                   Hamilton Hills  (39.3704700000, -76.5670500000)   \n",
              "285803                           Canton  (39.2804600000, -76.5727300000)   \n",
              "285804                   Evergreen Lawn  (39.2954200000, -76.6592800000)   \n",
              "285805  Penrose/Fayette Street Outreach  (39.2899900000, -76.6470700000)   \n",
              "285806                            Upton  (39.2981200000, -76.6339100000)   \n",
              "\n",
              "        Total Incidents  \n",
              "285802                1  \n",
              "285803                1  \n",
              "285804                1  \n",
              "285805                1  \n",
              "285806                1  "
            ],
            "text/html": [
              "\n",
              "  <div id=\"df-7e6a360b-2dde-4836-96ca-82f726938cc2\" class=\"colab-df-container\">\n",
              "    <div>\n",
              "<style scoped>\n",
              "    .dataframe tbody tr th:only-of-type {\n",
              "        vertical-align: middle;\n",
              "    }\n",
              "\n",
              "    .dataframe tbody tr th {\n",
              "        vertical-align: top;\n",
              "    }\n",
              "\n",
              "    .dataframe thead th {\n",
              "        text-align: right;\n",
              "    }\n",
              "</style>\n",
              "<table border=\"1\" class=\"dataframe\">\n",
              "  <thead>\n",
              "    <tr style=\"text-align: right;\">\n",
              "      <th></th>\n",
              "      <th>CrimeDate</th>\n",
              "      <th>CrimeTime</th>\n",
              "      <th>CrimeCode</th>\n",
              "      <th>Location</th>\n",
              "      <th>Description</th>\n",
              "      <th>Inside/Outside</th>\n",
              "      <th>Weapon</th>\n",
              "      <th>Post</th>\n",
              "      <th>District</th>\n",
              "      <th>Neighborhood</th>\n",
              "      <th>Location 1</th>\n",
              "      <th>Total Incidents</th>\n",
              "    </tr>\n",
              "  </thead>\n",
              "  <tbody>\n",
              "    <tr>\n",
              "      <th>285802</th>\n",
              "      <td>01/01/2011</td>\n",
              "      <td>22:15:00</td>\n",
              "      <td>4D</td>\n",
              "      <td>6800 MCCLEAN BD</td>\n",
              "      <td>AGG. ASSAULT</td>\n",
              "      <td>I</td>\n",
              "      <td>HANDS</td>\n",
              "      <td>423.0</td>\n",
              "      <td>NORTHEASTERN</td>\n",
              "      <td>Hamilton Hills</td>\n",
              "      <td>(39.3704700000, -76.5670500000)</td>\n",
              "      <td>1</td>\n",
              "    </tr>\n",
              "    <tr>\n",
              "      <th>285803</th>\n",
              "      <td>01/01/2011</td>\n",
              "      <td>22:30:00</td>\n",
              "      <td>6J</td>\n",
              "      <td>3000 ODONNELL ST</td>\n",
              "      <td>LARCENY</td>\n",
              "      <td>I</td>\n",
              "      <td>NaN</td>\n",
              "      <td>232.0</td>\n",
              "      <td>SOUTHEASTERN</td>\n",
              "      <td>Canton</td>\n",
              "      <td>(39.2804600000, -76.5727300000)</td>\n",
              "      <td>1</td>\n",
              "    </tr>\n",
              "    <tr>\n",
              "      <th>285804</th>\n",
              "      <td>01/01/2011</td>\n",
              "      <td>23:00:00</td>\n",
              "      <td>7A</td>\n",
              "      <td>2500 ARUNAH AV</td>\n",
              "      <td>AUTO THEFT</td>\n",
              "      <td>O</td>\n",
              "      <td>NaN</td>\n",
              "      <td>721.0</td>\n",
              "      <td>WESTERN</td>\n",
              "      <td>Evergreen Lawn</td>\n",
              "      <td>(39.2954200000, -76.6592800000)</td>\n",
              "      <td>1</td>\n",
              "    </tr>\n",
              "    <tr>\n",
              "      <th>285805</th>\n",
              "      <td>01/01/2011</td>\n",
              "      <td>23:25:00</td>\n",
              "      <td>4E</td>\n",
              "      <td>100 N MONROE ST</td>\n",
              "      <td>COMMON ASSAULT</td>\n",
              "      <td>I</td>\n",
              "      <td>HANDS</td>\n",
              "      <td>714.0</td>\n",
              "      <td>WESTERN</td>\n",
              "      <td>Penrose/Fayette Street Outreach</td>\n",
              "      <td>(39.2899900000, -76.6470700000)</td>\n",
              "      <td>1</td>\n",
              "    </tr>\n",
              "    <tr>\n",
              "      <th>285806</th>\n",
              "      <td>01/01/2011</td>\n",
              "      <td>23:38:00</td>\n",
              "      <td>4D</td>\n",
              "      <td>800 N FREMONT AV</td>\n",
              "      <td>AGG. ASSAULT</td>\n",
              "      <td>I</td>\n",
              "      <td>HANDS</td>\n",
              "      <td>123.0</td>\n",
              "      <td>WESTERN</td>\n",
              "      <td>Upton</td>\n",
              "      <td>(39.2981200000, -76.6339100000)</td>\n",
              "      <td>1</td>\n",
              "    </tr>\n",
              "  </tbody>\n",
              "</table>\n",
              "</div>\n",
              "    <div class=\"colab-df-buttons\">\n",
              "\n",
              "  <div class=\"colab-df-container\">\n",
              "    <button class=\"colab-df-convert\" onclick=\"convertToInteractive('df-7e6a360b-2dde-4836-96ca-82f726938cc2')\"\n",
              "            title=\"Convert this dataframe to an interactive table.\"\n",
              "            style=\"display:none;\">\n",
              "\n",
              "  <svg xmlns=\"http://www.w3.org/2000/svg\" height=\"24px\" viewBox=\"0 -960 960 960\">\n",
              "    <path d=\"M120-120v-720h720v720H120Zm60-500h600v-160H180v160Zm220 220h160v-160H400v160Zm0 220h160v-160H400v160ZM180-400h160v-160H180v160Zm440 0h160v-160H620v160ZM180-180h160v-160H180v160Zm440 0h160v-160H620v160Z\"/>\n",
              "  </svg>\n",
              "    </button>\n",
              "\n",
              "  <style>\n",
              "    .colab-df-container {\n",
              "      display:flex;\n",
              "      gap: 12px;\n",
              "    }\n",
              "\n",
              "    .colab-df-convert {\n",
              "      background-color: #E8F0FE;\n",
              "      border: none;\n",
              "      border-radius: 50%;\n",
              "      cursor: pointer;\n",
              "      display: none;\n",
              "      fill: #1967D2;\n",
              "      height: 32px;\n",
              "      padding: 0 0 0 0;\n",
              "      width: 32px;\n",
              "    }\n",
              "\n",
              "    .colab-df-convert:hover {\n",
              "      background-color: #E2EBFA;\n",
              "      box-shadow: 0px 1px 2px rgba(60, 64, 67, 0.3), 0px 1px 3px 1px rgba(60, 64, 67, 0.15);\n",
              "      fill: #174EA6;\n",
              "    }\n",
              "\n",
              "    .colab-df-buttons div {\n",
              "      margin-bottom: 4px;\n",
              "    }\n",
              "\n",
              "    [theme=dark] .colab-df-convert {\n",
              "      background-color: #3B4455;\n",
              "      fill: #D2E3FC;\n",
              "    }\n",
              "\n",
              "    [theme=dark] .colab-df-convert:hover {\n",
              "      background-color: #434B5C;\n",
              "      box-shadow: 0px 1px 3px 1px rgba(0, 0, 0, 0.15);\n",
              "      filter: drop-shadow(0px 1px 2px rgba(0, 0, 0, 0.3));\n",
              "      fill: #FFFFFF;\n",
              "    }\n",
              "  </style>\n",
              "\n",
              "    <script>\n",
              "      const buttonEl =\n",
              "        document.querySelector('#df-7e6a360b-2dde-4836-96ca-82f726938cc2 button.colab-df-convert');\n",
              "      buttonEl.style.display =\n",
              "        google.colab.kernel.accessAllowed ? 'block' : 'none';\n",
              "\n",
              "      async function convertToInteractive(key) {\n",
              "        const element = document.querySelector('#df-7e6a360b-2dde-4836-96ca-82f726938cc2');\n",
              "        const dataTable =\n",
              "          await google.colab.kernel.invokeFunction('convertToInteractive',\n",
              "                                                    [key], {});\n",
              "        if (!dataTable) return;\n",
              "\n",
              "        const docLinkHtml = 'Like what you see? Visit the ' +\n",
              "          '<a target=\"_blank\" href=https://colab.research.google.com/notebooks/data_table.ipynb>data table notebook</a>'\n",
              "          + ' to learn more about interactive tables.';\n",
              "        element.innerHTML = '';\n",
              "        dataTable['output_type'] = 'display_data';\n",
              "        await google.colab.output.renderOutput(dataTable, element);\n",
              "        const docLink = document.createElement('div');\n",
              "        docLink.innerHTML = docLinkHtml;\n",
              "        element.appendChild(docLink);\n",
              "      }\n",
              "    </script>\n",
              "  </div>\n",
              "\n",
              "\n",
              "<div id=\"df-346841b9-1301-475b-818b-1969730e9d24\">\n",
              "  <button class=\"colab-df-quickchart\" onclick=\"quickchart('df-346841b9-1301-475b-818b-1969730e9d24')\"\n",
              "            title=\"Suggest charts.\"\n",
              "            style=\"display:none;\">\n",
              "\n",
              "<svg xmlns=\"http://www.w3.org/2000/svg\" height=\"24px\"viewBox=\"0 0 24 24\"\n",
              "     width=\"24px\">\n",
              "    <g>\n",
              "        <path d=\"M19 3H5c-1.1 0-2 .9-2 2v14c0 1.1.9 2 2 2h14c1.1 0 2-.9 2-2V5c0-1.1-.9-2-2-2zM9 17H7v-7h2v7zm4 0h-2V7h2v10zm4 0h-2v-4h2v4z\"/>\n",
              "    </g>\n",
              "</svg>\n",
              "  </button>\n",
              "\n",
              "<style>\n",
              "  .colab-df-quickchart {\n",
              "      --bg-color: #E8F0FE;\n",
              "      --fill-color: #1967D2;\n",
              "      --hover-bg-color: #E2EBFA;\n",
              "      --hover-fill-color: #174EA6;\n",
              "      --disabled-fill-color: #AAA;\n",
              "      --disabled-bg-color: #DDD;\n",
              "  }\n",
              "\n",
              "  [theme=dark] .colab-df-quickchart {\n",
              "      --bg-color: #3B4455;\n",
              "      --fill-color: #D2E3FC;\n",
              "      --hover-bg-color: #434B5C;\n",
              "      --hover-fill-color: #FFFFFF;\n",
              "      --disabled-bg-color: #3B4455;\n",
              "      --disabled-fill-color: #666;\n",
              "  }\n",
              "\n",
              "  .colab-df-quickchart {\n",
              "    background-color: var(--bg-color);\n",
              "    border: none;\n",
              "    border-radius: 50%;\n",
              "    cursor: pointer;\n",
              "    display: none;\n",
              "    fill: var(--fill-color);\n",
              "    height: 32px;\n",
              "    padding: 0;\n",
              "    width: 32px;\n",
              "  }\n",
              "\n",
              "  .colab-df-quickchart:hover {\n",
              "    background-color: var(--hover-bg-color);\n",
              "    box-shadow: 0 1px 2px rgba(60, 64, 67, 0.3), 0 1px 3px 1px rgba(60, 64, 67, 0.15);\n",
              "    fill: var(--button-hover-fill-color);\n",
              "  }\n",
              "\n",
              "  .colab-df-quickchart-complete:disabled,\n",
              "  .colab-df-quickchart-complete:disabled:hover {\n",
              "    background-color: var(--disabled-bg-color);\n",
              "    fill: var(--disabled-fill-color);\n",
              "    box-shadow: none;\n",
              "  }\n",
              "\n",
              "  .colab-df-spinner {\n",
              "    border: 2px solid var(--fill-color);\n",
              "    border-color: transparent;\n",
              "    border-bottom-color: var(--fill-color);\n",
              "    animation:\n",
              "      spin 1s steps(1) infinite;\n",
              "  }\n",
              "\n",
              "  @keyframes spin {\n",
              "    0% {\n",
              "      border-color: transparent;\n",
              "      border-bottom-color: var(--fill-color);\n",
              "      border-left-color: var(--fill-color);\n",
              "    }\n",
              "    20% {\n",
              "      border-color: transparent;\n",
              "      border-left-color: var(--fill-color);\n",
              "      border-top-color: var(--fill-color);\n",
              "    }\n",
              "    30% {\n",
              "      border-color: transparent;\n",
              "      border-left-color: var(--fill-color);\n",
              "      border-top-color: var(--fill-color);\n",
              "      border-right-color: var(--fill-color);\n",
              "    }\n",
              "    40% {\n",
              "      border-color: transparent;\n",
              "      border-right-color: var(--fill-color);\n",
              "      border-top-color: var(--fill-color);\n",
              "    }\n",
              "    60% {\n",
              "      border-color: transparent;\n",
              "      border-right-color: var(--fill-color);\n",
              "    }\n",
              "    80% {\n",
              "      border-color: transparent;\n",
              "      border-right-color: var(--fill-color);\n",
              "      border-bottom-color: var(--fill-color);\n",
              "    }\n",
              "    90% {\n",
              "      border-color: transparent;\n",
              "      border-bottom-color: var(--fill-color);\n",
              "    }\n",
              "  }\n",
              "</style>\n",
              "\n",
              "  <script>\n",
              "    async function quickchart(key) {\n",
              "      const quickchartButtonEl =\n",
              "        document.querySelector('#' + key + ' button');\n",
              "      quickchartButtonEl.disabled = true;  // To prevent multiple clicks.\n",
              "      quickchartButtonEl.classList.add('colab-df-spinner');\n",
              "      try {\n",
              "        const charts = await google.colab.kernel.invokeFunction(\n",
              "            'suggestCharts', [key], {});\n",
              "      } catch (error) {\n",
              "        console.error('Error during call to suggestCharts:', error);\n",
              "      }\n",
              "      quickchartButtonEl.classList.remove('colab-df-spinner');\n",
              "      quickchartButtonEl.classList.add('colab-df-quickchart-complete');\n",
              "    }\n",
              "    (() => {\n",
              "      let quickchartButtonEl =\n",
              "        document.querySelector('#df-346841b9-1301-475b-818b-1969730e9d24 button');\n",
              "      quickchartButtonEl.style.display =\n",
              "        google.colab.kernel.accessAllowed ? 'block' : 'none';\n",
              "    })();\n",
              "  </script>\n",
              "</div>\n",
              "    </div>\n",
              "  </div>\n"
            ]
          },
          "metadata": {},
          "execution_count": 4
        }
      ]
    },
    {
      "cell_type": "code",
      "source": [
        "df.info()"
      ],
      "metadata": {
        "colab": {
          "base_uri": "https://localhost:8080/"
        },
        "id": "i1gecoiq2e8h",
        "outputId": "8aa32676-b0aa-4b6a-a7c9-1374cd6da65d"
      },
      "execution_count": 5,
      "outputs": [
        {
          "output_type": "stream",
          "name": "stdout",
          "text": [
            "<class 'pandas.core.frame.DataFrame'>\n",
            "RangeIndex: 285807 entries, 0 to 285806\n",
            "Data columns (total 12 columns):\n",
            " #   Column           Non-Null Count   Dtype  \n",
            "---  ------           --------------   -----  \n",
            " 0   CrimeDate        285807 non-null  object \n",
            " 1   CrimeTime        285807 non-null  object \n",
            " 2   CrimeCode        285807 non-null  object \n",
            " 3   Location         284184 non-null  object \n",
            " 4   Description      285807 non-null  object \n",
            " 5   Inside/Outside   281611 non-null  object \n",
            " 6   Weapon           97396 non-null   object \n",
            " 7   Post             285616 non-null  float64\n",
            " 8   District         285749 non-null  object \n",
            " 9   Neighborhood     284106 non-null  object \n",
            " 10  Location 1       284188 non-null  object \n",
            " 11  Total Incidents  285807 non-null  int64  \n",
            "dtypes: float64(1), int64(1), object(10)\n",
            "memory usage: 26.2+ MB\n"
          ]
        }
      ]
    },
    {
      "cell_type": "code",
      "source": [
        "df.isnull().sum()"
      ],
      "metadata": {
        "colab": {
          "base_uri": "https://localhost:8080/"
        },
        "id": "AAAypN6RHRdQ",
        "outputId": "aff0b623-88bb-4ac7-b9cd-1027ea6c1163"
      },
      "execution_count": 6,
      "outputs": [
        {
          "output_type": "execute_result",
          "data": {
            "text/plain": [
              "CrimeDate               0\n",
              "CrimeTime               0\n",
              "CrimeCode               0\n",
              "Location             1623\n",
              "Description             0\n",
              "Inside/Outside       4196\n",
              "Weapon             188411\n",
              "Post                  191\n",
              "District               58\n",
              "Neighborhood         1701\n",
              "Location 1           1619\n",
              "Total Incidents         0\n",
              "dtype: int64"
            ]
          },
          "metadata": {},
          "execution_count": 6
        }
      ]
    },
    {
      "cell_type": "code",
      "source": [
        "# fill in null values for weapon column with \"no-evidence\"\n",
        "df['Weapon'].fillna(\"no-evidence\", inplace=True)"
      ],
      "metadata": {
        "id": "7B_uyQDB41ZZ"
      },
      "execution_count": 8,
      "outputs": []
    },
    {
      "cell_type": "code",
      "source": [
        "# find the unique values of the 'Inside/Outside' column and unify them\n",
        "df['Inside/Outside'].unique()"
      ],
      "metadata": {
        "colab": {
          "base_uri": "https://localhost:8080/"
        },
        "id": "uwXg37C2yXHN",
        "outputId": "f8be8920-9d87-4b4c-9292-103341639617"
      },
      "execution_count": 10,
      "outputs": [
        {
          "output_type": "execute_result",
          "data": {
            "text/plain": [
              "array(['O', 'I', 'Outside', 'Inside', nan], dtype=object)"
            ]
          },
          "metadata": {},
          "execution_count": 10
        }
      ]
    },
    {
      "cell_type": "code",
      "source": [
        "df['Inside/Outside'].replace({\"I\":\"Inside\", \"O\":\"Outside\"}, inplace=True)"
      ],
      "metadata": {
        "id": "e4pX2FFwysMt"
      },
      "execution_count": 11,
      "outputs": []
    },
    {
      "cell_type": "code",
      "source": [
        "# change the military time with standard time/ change the dtype to date and time\n",
        "for i in range(len(df)):\n",
        "  if df.loc[i,'CrimeTime'][2] != ':':\n",
        "    df.loc[i,'CrimeTime']= df.loc[i,'CrimeTime'][:2] + \":\" + df.loc[i,'CrimeTime'][2:]"
      ],
      "metadata": {
        "id": "gtfYa4wyZw9a"
      },
      "execution_count": 12,
      "outputs": []
    },
    {
      "cell_type": "code",
      "source": [
        "df['CrimeTime'].replace({'24:00':'00:24:00'}, inplace= True)"
      ],
      "metadata": {
        "id": "KaITZ_Fl9wLc"
      },
      "execution_count": 13,
      "outputs": []
    },
    {
      "cell_type": "code",
      "source": [
        "df['CrimeDateTime'] = df['CrimeDate'] + ' ' + df['CrimeTime']"
      ],
      "metadata": {
        "id": "O8jtiwbR53v8"
      },
      "execution_count": 14,
      "outputs": []
    },
    {
      "cell_type": "code",
      "source": [
        "df['CrimeDateTime']= pd.to_datetime(df['CrimeDateTime'])"
      ],
      "metadata": {
        "id": "GThBb8I26Kn6"
      },
      "execution_count": 15,
      "outputs": []
    },
    {
      "cell_type": "code",
      "source": [
        "df.info()"
      ],
      "metadata": {
        "colab": {
          "base_uri": "https://localhost:8080/"
        },
        "id": "BwHAR3vh6ftn",
        "outputId": "ab7520bb-7c62-49d9-8557-720c0271c904"
      },
      "execution_count": 16,
      "outputs": [
        {
          "output_type": "stream",
          "name": "stdout",
          "text": [
            "<class 'pandas.core.frame.DataFrame'>\n",
            "RangeIndex: 285807 entries, 0 to 285806\n",
            "Data columns (total 13 columns):\n",
            " #   Column           Non-Null Count   Dtype         \n",
            "---  ------           --------------   -----         \n",
            " 0   CrimeDate        285807 non-null  object        \n",
            " 1   CrimeTime        285807 non-null  object        \n",
            " 2   CrimeCode        285807 non-null  object        \n",
            " 3   Location         284184 non-null  object        \n",
            " 4   Description      285807 non-null  object        \n",
            " 5   Inside/Outside   281611 non-null  object        \n",
            " 6   Weapon           285807 non-null  object        \n",
            " 7   Post             285616 non-null  float64       \n",
            " 8   District         285749 non-null  object        \n",
            " 9   Neighborhood     284106 non-null  object        \n",
            " 10  Location 1       284188 non-null  object        \n",
            " 11  Total Incidents  285807 non-null  int64         \n",
            " 12  CrimeDateTime    285807 non-null  datetime64[ns]\n",
            "dtypes: datetime64[ns](1), float64(1), int64(1), object(10)\n",
            "memory usage: 28.3+ MB\n"
          ]
        }
      ]
    },
    {
      "cell_type": "code",
      "source": [
        "df['CrimeTime']= pd.to_datetime(df['CrimeTime']).dt.time"
      ],
      "metadata": {
        "id": "8uiHP1k0xkzs"
      },
      "execution_count": 17,
      "outputs": []
    },
    {
      "cell_type": "code",
      "source": [
        "df['CrimeDate']= pd.to_datetime(df['CrimeDate'])"
      ],
      "metadata": {
        "id": "RXC86HitxnBH"
      },
      "execution_count": 18,
      "outputs": []
    },
    {
      "cell_type": "code",
      "source": [
        "df.sort_values(['CrimeDate', 'CrimeTime'], ascending= True, inplace=True)"
      ],
      "metadata": {
        "id": "546-obzax2Vy"
      },
      "execution_count": 19,
      "outputs": []
    },
    {
      "cell_type": "code",
      "source": [
        "df.set_index(\"CrimeDateTime\", inplace=True)"
      ],
      "metadata": {
        "id": "XtQiYUXE72tJ"
      },
      "execution_count": 20,
      "outputs": []
    },
    {
      "cell_type": "code",
      "source": [
        "#df.dropna(inplace=True)"
      ],
      "metadata": {
        "id": "8LMtESG07IPM"
      },
      "execution_count": null,
      "outputs": []
    },
    {
      "cell_type": "code",
      "source": [
        "df"
      ],
      "metadata": {
        "colab": {
          "base_uri": "https://localhost:8080/",
          "height": 788
        },
        "id": "BAS5fIrnzmeM",
        "outputId": "43f77989-e7f6-4c05-a87d-d877719dcadc"
      },
      "execution_count": 21,
      "outputs": [
        {
          "output_type": "execute_result",
          "data": {
            "text/plain": [
              "                     CrimeDate CrimeTime CrimeCode            Location  \\\n",
              "CrimeDateTime                                                            \n",
              "2011-01-01 00:00:00 2011-01-01  00:00:00        6E      2700 HARLEM AV   \n",
              "2011-01-01 00:00:00 2011-01-01  00:00:00        6G        0 E CROSS ST   \n",
              "2011-01-01 00:01:00 2011-01-01  00:01:00        6J       0 E OSTEND ST   \n",
              "2011-01-01 00:01:00 2011-01-01  00:01:00        6G     700 RAPPOLLA ST   \n",
              "2011-01-01 00:05:00 2011-01-01  00:05:00        4B     5200 MORAVIA RD   \n",
              "...                        ...       ...       ...                 ...   \n",
              "2016-11-12 22:40:00 2016-11-12  22:40:00        7A      LN & LINDEN AV   \n",
              "2016-11-12 22:47:00 2016-11-12  22:47:00        4E    3300 BRENDAN AVE   \n",
              "2016-11-12 23:30:00 2016-11-12  23:30:00        6D   5000 CORDELIA AVE   \n",
              "2016-11-12 23:40:00 2016-11-12  23:40:00        4E      3200 AILSA AVE   \n",
              "2016-11-12 23:54:00 2016-11-12  23:54:00       3AO  2500 QUEEN ANNE RD   \n",
              "\n",
              "                           Description Inside/Outside       Weapon   Post  \\\n",
              "CrimeDateTime                                                               \n",
              "2011-01-01 00:00:00            LARCENY        Outside  no-evidence  721.0   \n",
              "2011-01-01 00:00:00            LARCENY         Inside  no-evidence  942.0   \n",
              "2011-01-01 00:01:00            LARCENY         Inside  no-evidence  942.0   \n",
              "2011-01-01 00:01:00            LARCENY         Inside  no-evidence  242.0   \n",
              "2011-01-01 00:05:00       AGG. ASSAULT         Inside        KNIFE  443.0   \n",
              "...                                ...            ...          ...    ...   \n",
              "2016-11-12 22:40:00         AUTO THEFT        Outside  no-evidence  133.0   \n",
              "2016-11-12 22:47:00     COMMON ASSAULT         Inside        HANDS  432.0   \n",
              "2016-11-12 23:30:00  LARCENY FROM AUTO        Outside  no-evidence  613.0   \n",
              "2016-11-12 23:40:00     COMMON ASSAULT         Inside        HANDS  426.0   \n",
              "2016-11-12 23:54:00   ROBBERY - STREET        Outside        OTHER  641.0   \n",
              "\n",
              "                         District     Neighborhood  \\\n",
              "CrimeDateTime                                        \n",
              "2011-01-01 00:00:00       WESTERN           Mosher   \n",
              "2011-01-01 00:00:00      SOUTHERN     Federal Hill   \n",
              "2011-01-01 00:01:00      SOUTHERN     Federal Hill   \n",
              "2011-01-01 00:01:00  SOUTHEASTERN        Greektown   \n",
              "2011-01-01 00:05:00  NORTHEASTERN        Frankford   \n",
              "...                           ...              ...   \n",
              "2016-11-12 22:40:00       CENTRAL   Reservoir Hill   \n",
              "2016-11-12 22:47:00  NORTHEASTERN    Belair-Edison   \n",
              "2016-11-12 23:30:00  NORTHWESTERN  Langston Hughes   \n",
              "2016-11-12 23:40:00  NORTHEASTERN       Waltherson   \n",
              "2016-11-12 23:54:00  NORTHWESTERN    Windsor Hills   \n",
              "\n",
              "                                          Location 1  Total Incidents  \n",
              "CrimeDateTime                                                          \n",
              "2011-01-01 00:00:00  (39.2956000000, -76.6615600000)                1  \n",
              "2011-01-01 00:00:00  (39.2769600000, -76.6133800000)                1  \n",
              "2011-01-01 00:01:00  (39.2748200000, -76.6128000000)                1  \n",
              "2011-01-01 00:01:00  (39.2849900000, -76.5528100000)                1  \n",
              "2011-01-01 00:05:00  (39.3235300000, -76.5496600000)                1  \n",
              "...                                              ...              ...  \n",
              "2016-11-12 22:40:00  (39.3159900000, -76.6361600000)                1  \n",
              "2016-11-12 22:47:00  (39.3214000000, -76.5685600000)                1  \n",
              "2016-11-12 23:30:00  (39.3441500000, -76.6798000000)                1  \n",
              "2016-11-12 23:40:00  (39.3455300000, -76.5636700000)                1  \n",
              "2016-11-12 23:54:00  (39.3154500000, -76.6873500000)                1  \n",
              "\n",
              "[285807 rows x 12 columns]"
            ],
            "text/html": [
              "\n",
              "  <div id=\"df-2b007043-1ec2-4ca2-ac88-fa19d73614b8\" class=\"colab-df-container\">\n",
              "    <div>\n",
              "<style scoped>\n",
              "    .dataframe tbody tr th:only-of-type {\n",
              "        vertical-align: middle;\n",
              "    }\n",
              "\n",
              "    .dataframe tbody tr th {\n",
              "        vertical-align: top;\n",
              "    }\n",
              "\n",
              "    .dataframe thead th {\n",
              "        text-align: right;\n",
              "    }\n",
              "</style>\n",
              "<table border=\"1\" class=\"dataframe\">\n",
              "  <thead>\n",
              "    <tr style=\"text-align: right;\">\n",
              "      <th></th>\n",
              "      <th>CrimeDate</th>\n",
              "      <th>CrimeTime</th>\n",
              "      <th>CrimeCode</th>\n",
              "      <th>Location</th>\n",
              "      <th>Description</th>\n",
              "      <th>Inside/Outside</th>\n",
              "      <th>Weapon</th>\n",
              "      <th>Post</th>\n",
              "      <th>District</th>\n",
              "      <th>Neighborhood</th>\n",
              "      <th>Location 1</th>\n",
              "      <th>Total Incidents</th>\n",
              "    </tr>\n",
              "    <tr>\n",
              "      <th>CrimeDateTime</th>\n",
              "      <th></th>\n",
              "      <th></th>\n",
              "      <th></th>\n",
              "      <th></th>\n",
              "      <th></th>\n",
              "      <th></th>\n",
              "      <th></th>\n",
              "      <th></th>\n",
              "      <th></th>\n",
              "      <th></th>\n",
              "      <th></th>\n",
              "      <th></th>\n",
              "    </tr>\n",
              "  </thead>\n",
              "  <tbody>\n",
              "    <tr>\n",
              "      <th>2011-01-01 00:00:00</th>\n",
              "      <td>2011-01-01</td>\n",
              "      <td>00:00:00</td>\n",
              "      <td>6E</td>\n",
              "      <td>2700 HARLEM AV</td>\n",
              "      <td>LARCENY</td>\n",
              "      <td>Outside</td>\n",
              "      <td>no-evidence</td>\n",
              "      <td>721.0</td>\n",
              "      <td>WESTERN</td>\n",
              "      <td>Mosher</td>\n",
              "      <td>(39.2956000000, -76.6615600000)</td>\n",
              "      <td>1</td>\n",
              "    </tr>\n",
              "    <tr>\n",
              "      <th>2011-01-01 00:00:00</th>\n",
              "      <td>2011-01-01</td>\n",
              "      <td>00:00:00</td>\n",
              "      <td>6G</td>\n",
              "      <td>0 E CROSS ST</td>\n",
              "      <td>LARCENY</td>\n",
              "      <td>Inside</td>\n",
              "      <td>no-evidence</td>\n",
              "      <td>942.0</td>\n",
              "      <td>SOUTHERN</td>\n",
              "      <td>Federal Hill</td>\n",
              "      <td>(39.2769600000, -76.6133800000)</td>\n",
              "      <td>1</td>\n",
              "    </tr>\n",
              "    <tr>\n",
              "      <th>2011-01-01 00:01:00</th>\n",
              "      <td>2011-01-01</td>\n",
              "      <td>00:01:00</td>\n",
              "      <td>6J</td>\n",
              "      <td>0 E OSTEND ST</td>\n",
              "      <td>LARCENY</td>\n",
              "      <td>Inside</td>\n",
              "      <td>no-evidence</td>\n",
              "      <td>942.0</td>\n",
              "      <td>SOUTHERN</td>\n",
              "      <td>Federal Hill</td>\n",
              "      <td>(39.2748200000, -76.6128000000)</td>\n",
              "      <td>1</td>\n",
              "    </tr>\n",
              "    <tr>\n",
              "      <th>2011-01-01 00:01:00</th>\n",
              "      <td>2011-01-01</td>\n",
              "      <td>00:01:00</td>\n",
              "      <td>6G</td>\n",
              "      <td>700 RAPPOLLA ST</td>\n",
              "      <td>LARCENY</td>\n",
              "      <td>Inside</td>\n",
              "      <td>no-evidence</td>\n",
              "      <td>242.0</td>\n",
              "      <td>SOUTHEASTERN</td>\n",
              "      <td>Greektown</td>\n",
              "      <td>(39.2849900000, -76.5528100000)</td>\n",
              "      <td>1</td>\n",
              "    </tr>\n",
              "    <tr>\n",
              "      <th>2011-01-01 00:05:00</th>\n",
              "      <td>2011-01-01</td>\n",
              "      <td>00:05:00</td>\n",
              "      <td>4B</td>\n",
              "      <td>5200 MORAVIA RD</td>\n",
              "      <td>AGG. ASSAULT</td>\n",
              "      <td>Inside</td>\n",
              "      <td>KNIFE</td>\n",
              "      <td>443.0</td>\n",
              "      <td>NORTHEASTERN</td>\n",
              "      <td>Frankford</td>\n",
              "      <td>(39.3235300000, -76.5496600000)</td>\n",
              "      <td>1</td>\n",
              "    </tr>\n",
              "    <tr>\n",
              "      <th>...</th>\n",
              "      <td>...</td>\n",
              "      <td>...</td>\n",
              "      <td>...</td>\n",
              "      <td>...</td>\n",
              "      <td>...</td>\n",
              "      <td>...</td>\n",
              "      <td>...</td>\n",
              "      <td>...</td>\n",
              "      <td>...</td>\n",
              "      <td>...</td>\n",
              "      <td>...</td>\n",
              "      <td>...</td>\n",
              "    </tr>\n",
              "    <tr>\n",
              "      <th>2016-11-12 22:40:00</th>\n",
              "      <td>2016-11-12</td>\n",
              "      <td>22:40:00</td>\n",
              "      <td>7A</td>\n",
              "      <td>LN &amp; LINDEN AV</td>\n",
              "      <td>AUTO THEFT</td>\n",
              "      <td>Outside</td>\n",
              "      <td>no-evidence</td>\n",
              "      <td>133.0</td>\n",
              "      <td>CENTRAL</td>\n",
              "      <td>Reservoir Hill</td>\n",
              "      <td>(39.3159900000, -76.6361600000)</td>\n",
              "      <td>1</td>\n",
              "    </tr>\n",
              "    <tr>\n",
              "      <th>2016-11-12 22:47:00</th>\n",
              "      <td>2016-11-12</td>\n",
              "      <td>22:47:00</td>\n",
              "      <td>4E</td>\n",
              "      <td>3300 BRENDAN AVE</td>\n",
              "      <td>COMMON ASSAULT</td>\n",
              "      <td>Inside</td>\n",
              "      <td>HANDS</td>\n",
              "      <td>432.0</td>\n",
              "      <td>NORTHEASTERN</td>\n",
              "      <td>Belair-Edison</td>\n",
              "      <td>(39.3214000000, -76.5685600000)</td>\n",
              "      <td>1</td>\n",
              "    </tr>\n",
              "    <tr>\n",
              "      <th>2016-11-12 23:30:00</th>\n",
              "      <td>2016-11-12</td>\n",
              "      <td>23:30:00</td>\n",
              "      <td>6D</td>\n",
              "      <td>5000 CORDELIA AVE</td>\n",
              "      <td>LARCENY FROM AUTO</td>\n",
              "      <td>Outside</td>\n",
              "      <td>no-evidence</td>\n",
              "      <td>613.0</td>\n",
              "      <td>NORTHWESTERN</td>\n",
              "      <td>Langston Hughes</td>\n",
              "      <td>(39.3441500000, -76.6798000000)</td>\n",
              "      <td>1</td>\n",
              "    </tr>\n",
              "    <tr>\n",
              "      <th>2016-11-12 23:40:00</th>\n",
              "      <td>2016-11-12</td>\n",
              "      <td>23:40:00</td>\n",
              "      <td>4E</td>\n",
              "      <td>3200 AILSA AVE</td>\n",
              "      <td>COMMON ASSAULT</td>\n",
              "      <td>Inside</td>\n",
              "      <td>HANDS</td>\n",
              "      <td>426.0</td>\n",
              "      <td>NORTHEASTERN</td>\n",
              "      <td>Waltherson</td>\n",
              "      <td>(39.3455300000, -76.5636700000)</td>\n",
              "      <td>1</td>\n",
              "    </tr>\n",
              "    <tr>\n",
              "      <th>2016-11-12 23:54:00</th>\n",
              "      <td>2016-11-12</td>\n",
              "      <td>23:54:00</td>\n",
              "      <td>3AO</td>\n",
              "      <td>2500 QUEEN ANNE RD</td>\n",
              "      <td>ROBBERY - STREET</td>\n",
              "      <td>Outside</td>\n",
              "      <td>OTHER</td>\n",
              "      <td>641.0</td>\n",
              "      <td>NORTHWESTERN</td>\n",
              "      <td>Windsor Hills</td>\n",
              "      <td>(39.3154500000, -76.6873500000)</td>\n",
              "      <td>1</td>\n",
              "    </tr>\n",
              "  </tbody>\n",
              "</table>\n",
              "<p>285807 rows × 12 columns</p>\n",
              "</div>\n",
              "    <div class=\"colab-df-buttons\">\n",
              "\n",
              "  <div class=\"colab-df-container\">\n",
              "    <button class=\"colab-df-convert\" onclick=\"convertToInteractive('df-2b007043-1ec2-4ca2-ac88-fa19d73614b8')\"\n",
              "            title=\"Convert this dataframe to an interactive table.\"\n",
              "            style=\"display:none;\">\n",
              "\n",
              "  <svg xmlns=\"http://www.w3.org/2000/svg\" height=\"24px\" viewBox=\"0 -960 960 960\">\n",
              "    <path d=\"M120-120v-720h720v720H120Zm60-500h600v-160H180v160Zm220 220h160v-160H400v160Zm0 220h160v-160H400v160ZM180-400h160v-160H180v160Zm440 0h160v-160H620v160ZM180-180h160v-160H180v160Zm440 0h160v-160H620v160Z\"/>\n",
              "  </svg>\n",
              "    </button>\n",
              "\n",
              "  <style>\n",
              "    .colab-df-container {\n",
              "      display:flex;\n",
              "      gap: 12px;\n",
              "    }\n",
              "\n",
              "    .colab-df-convert {\n",
              "      background-color: #E8F0FE;\n",
              "      border: none;\n",
              "      border-radius: 50%;\n",
              "      cursor: pointer;\n",
              "      display: none;\n",
              "      fill: #1967D2;\n",
              "      height: 32px;\n",
              "      padding: 0 0 0 0;\n",
              "      width: 32px;\n",
              "    }\n",
              "\n",
              "    .colab-df-convert:hover {\n",
              "      background-color: #E2EBFA;\n",
              "      box-shadow: 0px 1px 2px rgba(60, 64, 67, 0.3), 0px 1px 3px 1px rgba(60, 64, 67, 0.15);\n",
              "      fill: #174EA6;\n",
              "    }\n",
              "\n",
              "    .colab-df-buttons div {\n",
              "      margin-bottom: 4px;\n",
              "    }\n",
              "\n",
              "    [theme=dark] .colab-df-convert {\n",
              "      background-color: #3B4455;\n",
              "      fill: #D2E3FC;\n",
              "    }\n",
              "\n",
              "    [theme=dark] .colab-df-convert:hover {\n",
              "      background-color: #434B5C;\n",
              "      box-shadow: 0px 1px 3px 1px rgba(0, 0, 0, 0.15);\n",
              "      filter: drop-shadow(0px 1px 2px rgba(0, 0, 0, 0.3));\n",
              "      fill: #FFFFFF;\n",
              "    }\n",
              "  </style>\n",
              "\n",
              "    <script>\n",
              "      const buttonEl =\n",
              "        document.querySelector('#df-2b007043-1ec2-4ca2-ac88-fa19d73614b8 button.colab-df-convert');\n",
              "      buttonEl.style.display =\n",
              "        google.colab.kernel.accessAllowed ? 'block' : 'none';\n",
              "\n",
              "      async function convertToInteractive(key) {\n",
              "        const element = document.querySelector('#df-2b007043-1ec2-4ca2-ac88-fa19d73614b8');\n",
              "        const dataTable =\n",
              "          await google.colab.kernel.invokeFunction('convertToInteractive',\n",
              "                                                    [key], {});\n",
              "        if (!dataTable) return;\n",
              "\n",
              "        const docLinkHtml = 'Like what you see? Visit the ' +\n",
              "          '<a target=\"_blank\" href=https://colab.research.google.com/notebooks/data_table.ipynb>data table notebook</a>'\n",
              "          + ' to learn more about interactive tables.';\n",
              "        element.innerHTML = '';\n",
              "        dataTable['output_type'] = 'display_data';\n",
              "        await google.colab.output.renderOutput(dataTable, element);\n",
              "        const docLink = document.createElement('div');\n",
              "        docLink.innerHTML = docLinkHtml;\n",
              "        element.appendChild(docLink);\n",
              "      }\n",
              "    </script>\n",
              "  </div>\n",
              "\n",
              "\n",
              "<div id=\"df-b8c23c82-3492-4a78-8f73-f251030c2ce5\">\n",
              "  <button class=\"colab-df-quickchart\" onclick=\"quickchart('df-b8c23c82-3492-4a78-8f73-f251030c2ce5')\"\n",
              "            title=\"Suggest charts.\"\n",
              "            style=\"display:none;\">\n",
              "\n",
              "<svg xmlns=\"http://www.w3.org/2000/svg\" height=\"24px\"viewBox=\"0 0 24 24\"\n",
              "     width=\"24px\">\n",
              "    <g>\n",
              "        <path d=\"M19 3H5c-1.1 0-2 .9-2 2v14c0 1.1.9 2 2 2h14c1.1 0 2-.9 2-2V5c0-1.1-.9-2-2-2zM9 17H7v-7h2v7zm4 0h-2V7h2v10zm4 0h-2v-4h2v4z\"/>\n",
              "    </g>\n",
              "</svg>\n",
              "  </button>\n",
              "\n",
              "<style>\n",
              "  .colab-df-quickchart {\n",
              "      --bg-color: #E8F0FE;\n",
              "      --fill-color: #1967D2;\n",
              "      --hover-bg-color: #E2EBFA;\n",
              "      --hover-fill-color: #174EA6;\n",
              "      --disabled-fill-color: #AAA;\n",
              "      --disabled-bg-color: #DDD;\n",
              "  }\n",
              "\n",
              "  [theme=dark] .colab-df-quickchart {\n",
              "      --bg-color: #3B4455;\n",
              "      --fill-color: #D2E3FC;\n",
              "      --hover-bg-color: #434B5C;\n",
              "      --hover-fill-color: #FFFFFF;\n",
              "      --disabled-bg-color: #3B4455;\n",
              "      --disabled-fill-color: #666;\n",
              "  }\n",
              "\n",
              "  .colab-df-quickchart {\n",
              "    background-color: var(--bg-color);\n",
              "    border: none;\n",
              "    border-radius: 50%;\n",
              "    cursor: pointer;\n",
              "    display: none;\n",
              "    fill: var(--fill-color);\n",
              "    height: 32px;\n",
              "    padding: 0;\n",
              "    width: 32px;\n",
              "  }\n",
              "\n",
              "  .colab-df-quickchart:hover {\n",
              "    background-color: var(--hover-bg-color);\n",
              "    box-shadow: 0 1px 2px rgba(60, 64, 67, 0.3), 0 1px 3px 1px rgba(60, 64, 67, 0.15);\n",
              "    fill: var(--button-hover-fill-color);\n",
              "  }\n",
              "\n",
              "  .colab-df-quickchart-complete:disabled,\n",
              "  .colab-df-quickchart-complete:disabled:hover {\n",
              "    background-color: var(--disabled-bg-color);\n",
              "    fill: var(--disabled-fill-color);\n",
              "    box-shadow: none;\n",
              "  }\n",
              "\n",
              "  .colab-df-spinner {\n",
              "    border: 2px solid var(--fill-color);\n",
              "    border-color: transparent;\n",
              "    border-bottom-color: var(--fill-color);\n",
              "    animation:\n",
              "      spin 1s steps(1) infinite;\n",
              "  }\n",
              "\n",
              "  @keyframes spin {\n",
              "    0% {\n",
              "      border-color: transparent;\n",
              "      border-bottom-color: var(--fill-color);\n",
              "      border-left-color: var(--fill-color);\n",
              "    }\n",
              "    20% {\n",
              "      border-color: transparent;\n",
              "      border-left-color: var(--fill-color);\n",
              "      border-top-color: var(--fill-color);\n",
              "    }\n",
              "    30% {\n",
              "      border-color: transparent;\n",
              "      border-left-color: var(--fill-color);\n",
              "      border-top-color: var(--fill-color);\n",
              "      border-right-color: var(--fill-color);\n",
              "    }\n",
              "    40% {\n",
              "      border-color: transparent;\n",
              "      border-right-color: var(--fill-color);\n",
              "      border-top-color: var(--fill-color);\n",
              "    }\n",
              "    60% {\n",
              "      border-color: transparent;\n",
              "      border-right-color: var(--fill-color);\n",
              "    }\n",
              "    80% {\n",
              "      border-color: transparent;\n",
              "      border-right-color: var(--fill-color);\n",
              "      border-bottom-color: var(--fill-color);\n",
              "    }\n",
              "    90% {\n",
              "      border-color: transparent;\n",
              "      border-bottom-color: var(--fill-color);\n",
              "    }\n",
              "  }\n",
              "</style>\n",
              "\n",
              "  <script>\n",
              "    async function quickchart(key) {\n",
              "      const quickchartButtonEl =\n",
              "        document.querySelector('#' + key + ' button');\n",
              "      quickchartButtonEl.disabled = true;  // To prevent multiple clicks.\n",
              "      quickchartButtonEl.classList.add('colab-df-spinner');\n",
              "      try {\n",
              "        const charts = await google.colab.kernel.invokeFunction(\n",
              "            'suggestCharts', [key], {});\n",
              "      } catch (error) {\n",
              "        console.error('Error during call to suggestCharts:', error);\n",
              "      }\n",
              "      quickchartButtonEl.classList.remove('colab-df-spinner');\n",
              "      quickchartButtonEl.classList.add('colab-df-quickchart-complete');\n",
              "    }\n",
              "    (() => {\n",
              "      let quickchartButtonEl =\n",
              "        document.querySelector('#df-b8c23c82-3492-4a78-8f73-f251030c2ce5 button');\n",
              "      quickchartButtonEl.style.display =\n",
              "        google.colab.kernel.accessAllowed ? 'block' : 'none';\n",
              "    })();\n",
              "  </script>\n",
              "</div>\n",
              "    </div>\n",
              "  </div>\n"
            ]
          },
          "metadata": {},
          "execution_count": 21
        }
      ]
    },
    {
      "cell_type": "code",
      "source": [
        "df.info()"
      ],
      "metadata": {
        "colab": {
          "base_uri": "https://localhost:8080/"
        },
        "id": "zadMm1Z9wf1B",
        "outputId": "c637d8bc-6d9f-46af-fe81-1fe48f6f9a85"
      },
      "execution_count": 22,
      "outputs": [
        {
          "output_type": "stream",
          "name": "stdout",
          "text": [
            "<class 'pandas.core.frame.DataFrame'>\n",
            "DatetimeIndex: 285807 entries, 2011-01-01 00:00:00 to 2016-11-12 23:54:00\n",
            "Data columns (total 12 columns):\n",
            " #   Column           Non-Null Count   Dtype         \n",
            "---  ------           --------------   -----         \n",
            " 0   CrimeDate        285807 non-null  datetime64[ns]\n",
            " 1   CrimeTime        285807 non-null  object        \n",
            " 2   CrimeCode        285807 non-null  object        \n",
            " 3   Location         284184 non-null  object        \n",
            " 4   Description      285807 non-null  object        \n",
            " 5   Inside/Outside   281611 non-null  object        \n",
            " 6   Weapon           285807 non-null  object        \n",
            " 7   Post             285616 non-null  float64       \n",
            " 8   District         285749 non-null  object        \n",
            " 9   Neighborhood     284106 non-null  object        \n",
            " 10  Location 1       284188 non-null  object        \n",
            " 11  Total Incidents  285807 non-null  int64         \n",
            "dtypes: datetime64[ns](1), float64(1), int64(1), object(9)\n",
            "memory usage: 28.3+ MB\n"
          ]
        }
      ]
    },
    {
      "cell_type": "code",
      "source": [
        "df.isnull().sum()"
      ],
      "metadata": {
        "colab": {
          "base_uri": "https://localhost:8080/"
        },
        "id": "Jt-WQOirEcmD",
        "outputId": "61ef4a8b-8e4c-4b71-dfaa-d0b15bb00d2e"
      },
      "execution_count": 23,
      "outputs": [
        {
          "output_type": "execute_result",
          "data": {
            "text/plain": [
              "CrimeDate             0\n",
              "CrimeTime             0\n",
              "CrimeCode             0\n",
              "Location           1623\n",
              "Description           0\n",
              "Inside/Outside     4196\n",
              "Weapon                0\n",
              "Post                191\n",
              "District             58\n",
              "Neighborhood       1701\n",
              "Location 1         1619\n",
              "Total Incidents       0\n",
              "dtype: int64"
            ]
          },
          "metadata": {},
          "execution_count": 23
        }
      ]
    },
    {
      "cell_type": "markdown",
      "source": [
        "##General Questions"
      ],
      "metadata": {
        "id": "uFYFwb6B0pvZ"
      }
    },
    {
      "cell_type": "markdown",
      "source": [
        "## 1) How many total incidents are recorded in the dataset?"
      ],
      "metadata": {
        "id": "A8b0ueCV0YpC"
      }
    },
    {
      "cell_type": "code",
      "source": [
        "total_inc= df['Total Incidents'].sum()"
      ],
      "metadata": {
        "id": "obGjqbXL0P7a"
      },
      "execution_count": 24,
      "outputs": []
    },
    {
      "cell_type": "code",
      "source": [
        "print(f\"Total Incidents are : {total_inc}\")"
      ],
      "metadata": {
        "colab": {
          "base_uri": "https://localhost:8080/"
        },
        "id": "FKeki8hb0Pvz",
        "outputId": "e62dda01-0853-4489-eeb2-b36feb9a2191"
      },
      "execution_count": 26,
      "outputs": [
        {
          "output_type": "stream",
          "name": "stdout",
          "text": [
            "Total Incidents are : 285807\n"
          ]
        }
      ]
    },
    {
      "cell_type": "markdown",
      "source": [
        "## 2) What is the earliest crimedate in the dataset?"
      ],
      "metadata": {
        "id": "Uyos2lBr-BHD"
      }
    },
    {
      "cell_type": "code",
      "source": [
        "earliest = df['CrimeDate'].min()\n",
        "print(f\"Earliest crimedate is : {earliest}\")"
      ],
      "metadata": {
        "colab": {
          "base_uri": "https://localhost:8080/"
        },
        "id": "ZAKxJ0559j0d",
        "outputId": "03bcfca3-85ea-4851-9b3e-94d14dd1db47"
      },
      "execution_count": 28,
      "outputs": [
        {
          "output_type": "stream",
          "name": "stdout",
          "text": [
            "Earliest crimedate is : 2011-01-01 00:00:00\n"
          ]
        }
      ]
    },
    {
      "cell_type": "markdown",
      "source": [
        "##3) What is the latest crimedate in the dataset?"
      ],
      "metadata": {
        "id": "OHTYsAXR4FWr"
      }
    },
    {
      "cell_type": "code",
      "source": [
        "latest= df['CrimeDate'].max()\n",
        "print(f\"Latest crimedate is : {latest}\")"
      ],
      "metadata": {
        "colab": {
          "base_uri": "https://localhost:8080/"
        },
        "id": "Qganl42t3nok",
        "outputId": "36b627c0-9458-4c49-cfe0-09dad8889725"
      },
      "execution_count": 29,
      "outputs": [
        {
          "output_type": "stream",
          "name": "stdout",
          "text": [
            "Latest crimedate is : 2016-11-12 00:00:00\n"
          ]
        }
      ]
    },
    {
      "cell_type": "markdown",
      "source": [
        "##Questions about Types of Crime"
      ],
      "metadata": {
        "id": "eiEL2vxw0vHN"
      }
    },
    {
      "cell_type": "markdown",
      "source": [
        "## 1) What are the unique crimecodes listed in the dataset?"
      ],
      "metadata": {
        "id": "rFn2IsI29yfK"
      }
    },
    {
      "cell_type": "code",
      "source": [
        "df['CrimeCode'].unique()"
      ],
      "metadata": {
        "colab": {
          "base_uri": "https://localhost:8080/"
        },
        "id": "4IcaZ1-S4MJd",
        "outputId": "968ef303-8de0-44a6-c524-a279b1b619e2"
      },
      "execution_count": 30,
      "outputs": [
        {
          "output_type": "execute_result",
          "data": {
            "text/plain": [
              "array(['6E', '6G', '6J', '4B', '6D', '5D', '4D', '4C', '4E', '7A', '5A',\n",
              "       '1K', '6B', '3AF', '5C', '4A', '9S', '3B', '2A', '7C', '6C', '5B',\n",
              "       '3CK', '3JF', '1F', '8J', '3CF', '3AK', '6H', '2B', '3EK', '6A',\n",
              "       '3JK', '3GF', '4F', '3LF', '6F', '3K', '6L', '8FO', '8H', '3P',\n",
              "       '3AJF', '3D', '3AO', '8AO', '3CO', '5F', '3LO', '3NF', '3F', '7B',\n",
              "       '5E', '3AJK', '8AV', '3AJO', '3M', '8BO', '3JO', '3BJ', '3EF',\n",
              "       '1O', '3H', '3NO', '3NK', '8EO', '8GO', '8BV', '3GK', '8I', '3GO',\n",
              "       '8CO', '3EO', '8GV', '6K', '8FV', '8CV', '8EV', '3N', '8DO', '3LK'],\n",
              "      dtype=object)"
            ]
          },
          "metadata": {},
          "execution_count": 30
        }
      ]
    },
    {
      "cell_type": "code",
      "source": [
        "df['CrimeCode'].nunique()"
      ],
      "metadata": {
        "colab": {
          "base_uri": "https://localhost:8080/"
        },
        "id": "rBISUO8mxgAq",
        "outputId": "84fb7417-edb8-4f85-f124-c7c9c14cf763"
      },
      "execution_count": 31,
      "outputs": [
        {
          "output_type": "execute_result",
          "data": {
            "text/plain": [
              "81"
            ]
          },
          "metadata": {},
          "execution_count": 31
        }
      ]
    },
    {
      "cell_type": "markdown",
      "source": [
        "## 2) Which crimecode has the highest occurrence?"
      ],
      "metadata": {
        "id": "6nv6xazj-Sri"
      }
    },
    {
      "cell_type": "code",
      "source": [
        "df['CrimeCode'].value_counts().idxmax()"
      ],
      "metadata": {
        "colab": {
          "base_uri": "https://localhost:8080/",
          "height": 35
        },
        "id": "jix1F7G_-LEq",
        "outputId": "ecea6434-0063-4140-824c-9b8368e3db9e"
      },
      "execution_count": 32,
      "outputs": [
        {
          "output_type": "execute_result",
          "data": {
            "text/plain": [
              "'4E'"
            ],
            "application/vnd.google.colaboratory.intrinsic+json": {
              "type": "string"
            }
          },
          "metadata": {},
          "execution_count": 32
        }
      ]
    },
    {
      "cell_type": "markdown",
      "source": [
        "## 3) How many incidents involved weapons?"
      ],
      "metadata": {
        "id": "WFmc2mYRAObE"
      }
    },
    {
      "cell_type": "code",
      "source": [
        "filt0= df['Weapon']== 'no-evidence'\n",
        "involved_weapons= df['Weapon'].loc[~filt0].value_counts().sum()\n",
        "print(f\"Incidents involved weapons = {involved_weapons}\")"
      ],
      "metadata": {
        "colab": {
          "base_uri": "https://localhost:8080/"
        },
        "id": "_QlTkotH26Vx",
        "outputId": "966ef157-a1ac-422b-efcb-0eadd4da44ab"
      },
      "execution_count": 35,
      "outputs": [
        {
          "output_type": "stream",
          "name": "stdout",
          "text": [
            "Incidents involved weapons = 97396\n"
          ]
        }
      ]
    },
    {
      "cell_type": "markdown",
      "source": [
        "##Time-Based Questions"
      ],
      "metadata": {
        "id": "EXKccxZMyEpH"
      }
    },
    {
      "cell_type": "markdown",
      "source": [
        "## 1) How many crimes occurred between 9:00 AM and 5:00 PM?"
      ],
      "metadata": {
        "id": "9D9-s_quyJDh"
      }
    },
    {
      "cell_type": "code",
      "source": [
        "from datetime import datetime\n",
        "\n",
        "start = datetime.strptime('09:00:00', '%H:%M:%S').time()\n",
        "end = datetime.strptime('17:00:00', '%H:%M:%S').time()"
      ],
      "metadata": {
        "id": "gQXJjuXoHVA_"
      },
      "execution_count": 36,
      "outputs": []
    },
    {
      "cell_type": "code",
      "source": [
        "filt1= (df['CrimeTime']>= start) & (df['CrimeTime']<= end)"
      ],
      "metadata": {
        "id": "36gfnTPmHgHH"
      },
      "execution_count": 37,
      "outputs": []
    },
    {
      "cell_type": "code",
      "source": [
        "df['Total Incidents'].loc[filt1].value_counts()"
      ],
      "metadata": {
        "colab": {
          "base_uri": "https://localhost:8080/"
        },
        "id": "5-G6WzrA-4Pq",
        "outputId": "d20f2b87-fce3-4292-f0e7-63648acaca11"
      },
      "execution_count": 40,
      "outputs": [
        {
          "output_type": "execute_result",
          "data": {
            "text/plain": [
              "1    112323\n",
              "Name: Total Incidents, dtype: int64"
            ]
          },
          "metadata": {},
          "execution_count": 40
        }
      ]
    },
    {
      "cell_type": "markdown",
      "source": [
        "## 2) What day of the week has the most recorded incidents?"
      ],
      "metadata": {
        "id": "WvMpUUSOyNem"
      }
    },
    {
      "cell_type": "code",
      "source": [
        "df['DayofWeek']= df['CrimeDate'].dt.day_name()"
      ],
      "metadata": {
        "id": "qdznO1oD_NKa"
      },
      "execution_count": 41,
      "outputs": []
    },
    {
      "cell_type": "code",
      "source": [
        "day_most=df['DayofWeek'].value_counts()"
      ],
      "metadata": {
        "id": "37w6JevihhTj"
      },
      "execution_count": 166,
      "outputs": []
    },
    {
      "cell_type": "code",
      "source": [
        "df['DayofWeek'].value_counts().idxmax()"
      ],
      "metadata": {
        "colab": {
          "base_uri": "https://localhost:8080/",
          "height": 35
        },
        "id": "8IL9IPgPLk8s",
        "outputId": "69c6665a-1193-4c4a-fff2-fe0285d3ad61"
      },
      "execution_count": 42,
      "outputs": [
        {
          "output_type": "execute_result",
          "data": {
            "text/plain": [
              "'Friday'"
            ],
            "application/vnd.google.colaboratory.intrinsic+json": {
              "type": "string"
            }
          },
          "metadata": {},
          "execution_count": 42
        }
      ]
    },
    {
      "cell_type": "code",
      "source": [
        "day_most.plot(kind= 'bar')\n",
        "day_most"
      ],
      "metadata": {
        "colab": {
          "base_uri": "https://localhost:8080/",
          "height": 635
        },
        "id": "duZHem3vhsWq",
        "outputId": "f4e84f1b-a0c4-4321-c0af-000292677bd0"
      },
      "execution_count": 174,
      "outputs": [
        {
          "output_type": "execute_result",
          "data": {
            "text/plain": [
              "Friday       43312\n",
              "Monday       41752\n",
              "Wednesday    40810\n",
              "Tuesday      40787\n",
              "Thursday     40442\n",
              "Saturday     40359\n",
              "Sunday       38345\n",
              "Name: DayofWeek, dtype: int64"
            ]
          },
          "metadata": {},
          "execution_count": 174
        },
        {
          "output_type": "display_data",
          "data": {
            "text/plain": [
              "<Figure size 640x480 with 1 Axes>"
            ],
            "image/png": "[encoded data removed]"
          },
          "metadata": {}
        }
      ]
    },
    {
      "cell_type": "markdown",
      "source": [
        "## 3) Which season (winter, summer, autumn, spring) had the least and most incidents?"
      ],
      "metadata": {
        "id": "hQQSP0h3ySAX"
      }
    },
    {
      "cell_type": "code",
      "source": [
        "def season_of_date(date):\n",
        "    year = str(date.year)\n",
        "    seasons = {'spring': pd.date_range(start='21/03/'+year, end='20/06/'+year),\n",
        "               'summer': pd.date_range(start='21/06/'+year, end='22/09/'+year),\n",
        "               'autumn': pd.date_range(start='23/09/'+year, end='20/12/'+year)}\n",
        "    if date in seasons['spring']:\n",
        "        return 'spring'\n",
        "    if date in seasons['summer']:\n",
        "        return 'summer'\n",
        "    if date in seasons['autumn']:\n",
        "        return 'autumn'\n",
        "    else:\n",
        "        return 'winter'"
      ],
      "metadata": {
        "id": "kC8oUT2ANql_"
      },
      "execution_count": 43,
      "outputs": []
    },
    {
      "cell_type": "code",
      "source": [
        "df['season'] = df['CrimeDate'].map(season_of_date)"
      ],
      "metadata": {
        "colab": {
          "base_uri": "https://localhost:8080/"
        },
        "id": "cG_rRdLoQSPY",
        "outputId": "8d1cb08c-a69a-4388-fb24-18847d1dd594"
      },
      "execution_count": 44,
      "outputs": [
        {
          "output_type": "stream",
          "name": "stderr",
          "text": [
            "<ipython-input-43-d4db810e8ad4>:3: UserWarning: Parsing dates in DD/MM/YYYY format when dayfirst=False (the default) was specified. This may lead to inconsistently parsed dates! Specify a format to ensure consistent parsing.\n",
            "  seasons = {'spring': pd.date_range(start='21/03/'+year, end='20/06/'+year),\n",
            "<ipython-input-43-d4db810e8ad4>:4: UserWarning: Parsing dates in DD/MM/YYYY format when dayfirst=False (the default) was specified. This may lead to inconsistently parsed dates! Specify a format to ensure consistent parsing.\n",
            "  'summer': pd.date_range(start='21/06/'+year, end='22/09/'+year),\n",
            "<ipython-input-43-d4db810e8ad4>:5: UserWarning: Parsing dates in DD/MM/YYYY format when dayfirst=False (the default) was specified. This may lead to inconsistently parsed dates! Specify a format to ensure consistent parsing.\n",
            "  'autumn': pd.date_range(start='23/09/'+year, end='20/12/'+year)}\n"
          ]
        }
      ]
    },
    {
      "cell_type": "code",
      "source": [
        "season_most_inc= df['season'].value_counts().idxmax()\n",
        "print(f\"The season with the most incedents is: {season_most_inc}\")"
      ],
      "metadata": {
        "colab": {
          "base_uri": "https://localhost:8080/"
        },
        "id": "4_cxcRpHRthN",
        "outputId": "28052400-e419-45d7-de96-f40a181c5fa4"
      },
      "execution_count": 45,
      "outputs": [
        {
          "output_type": "stream",
          "name": "stdout",
          "text": [
            "The season with the most incedents is: summer\n"
          ]
        }
      ]
    },
    {
      "cell_type": "code",
      "source": [
        "season_least_inc= df['season'].value_counts().idxmin()\n",
        "print(f\"The season with the least incedents is: {season_least_inc}\")"
      ],
      "metadata": {
        "colab": {
          "base_uri": "https://localhost:8080/"
        },
        "id": "XYp8495rR3AD",
        "outputId": "40a7eab3-b533-4ff1-a39b-446656e7cc7f"
      },
      "execution_count": 46,
      "outputs": [
        {
          "output_type": "stream",
          "name": "stdout",
          "text": [
            "The season with the least incedents is: winter\n"
          ]
        }
      ]
    },
    {
      "cell_type": "code",
      "source": [
        "season_inc= df['season'].value_counts()"
      ],
      "metadata": {
        "id": "uVfkWcjGpG3V"
      },
      "execution_count": 188,
      "outputs": []
    },
    {
      "cell_type": "code",
      "source": [
        "season_inc"
      ],
      "metadata": {
        "colab": {
          "base_uri": "https://localhost:8080/"
        },
        "id": "oXSvFq41pPQ2",
        "outputId": "fe5590f2-059e-42b0-8ed8-a146430527d1"
      },
      "execution_count": 189,
      "outputs": [
        {
          "output_type": "execute_result",
          "data": {
            "text/plain": [
              "summer    80885\n",
              "spring    75726\n",
              "autumn    68315\n",
              "winter    60881\n",
              "Name: season, dtype: int64"
            ]
          },
          "metadata": {},
          "execution_count": 189
        }
      ]
    },
    {
      "cell_type": "code",
      "source": [
        "season_inc.plot(kind= 'bar')"
      ],
      "metadata": {
        "colab": {
          "base_uri": "https://localhost:8080/",
          "height": 490
        },
        "id": "j7TwrV4opSjj",
        "outputId": "092bb845-bd7e-4ef5-daac-ab0fe4e9c9dd"
      },
      "execution_count": 196,
      "outputs": [
        {
          "output_type": "execute_result",
          "data": {
            "text/plain": [
              "<Axes: >"
            ]
          },
          "metadata": {},
          "execution_count": 196
        },
        {
          "output_type": "display_data",
          "data": {
            "text/plain": [
              "<Figure size 640x480 with 1 Axes>"
            ],
            "image/png": "[encoded data removed]"
          },
          "metadata": {}
        }
      ]
    },
    {
      "cell_type": "markdown",
      "source": [
        "## 4) Are there specific crimetimes that have a higher frequency of incidents?"
      ],
      "metadata": {
        "id": "vP71UjJPyeUX"
      }
    },
    {
      "cell_type": "code",
      "source": [
        "spec_time= df['CrimeTime'].value_counts().head(50)"
      ],
      "metadata": {
        "id": "pJPThQ5Xyh9y"
      },
      "execution_count": 199,
      "outputs": []
    },
    {
      "cell_type": "code",
      "source": [
        "spec_time"
      ],
      "metadata": {
        "colab": {
          "base_uri": "https://localhost:8080/"
        },
        "id": "jdn19XSkquKg",
        "outputId": "3e2b5c76-716a-4b8a-bea6-4dd144783065"
      },
      "execution_count": 203,
      "outputs": [
        {
          "output_type": "execute_result",
          "data": {
            "text/plain": [
              "18:00:00    7171\n",
              "17:00:00    6856\n",
              "16:00:00    6397\n",
              "20:00:00    6218\n",
              "12:00:00    6213\n",
              "21:00:00    6008\n",
              "15:00:00    5980\n",
              "19:00:00    5961\n",
              "22:00:00    5788\n",
              "14:00:00    4971\n",
              "23:00:00    4748\n",
              "13:00:00    4545\n",
              "09:00:00    4301\n",
              "08:00:00    4239\n",
              "10:00:00    4174\n",
              "11:00:00    3637\n",
              "18:30:00    3216\n",
              "15:30:00    3185\n",
              "16:30:00    3061\n",
              "17:30:00    3044\n",
              "21:30:00    2987\n",
              "20:30:00    2950\n",
              "19:30:00    2949\n",
              "22:30:00    2818\n",
              "00:00:00    2741\n",
              "01:00:00    2699\n",
              "07:00:00    2657\n",
              "02:00:00    2425\n",
              "14:30:00    2399\n",
              "23:30:00    2355\n",
              "12:30:00    2322\n",
              "08:30:00    2173\n",
              "13:30:00    2173\n",
              "11:30:00    2144\n",
              "01:01:00    2065\n",
              "10:30:00    2058\n",
              "09:30:00    1849\n",
              "07:30:00    1747\n",
              "03:00:00    1735\n",
              "00:30:00    1733\n",
              "00:01:00    1598\n",
              "06:00:00    1525\n",
              "01:30:00    1509\n",
              "02:30:00    1270\n",
              "04:00:00    1176\n",
              "05:00:00    1135\n",
              "06:30:00     993\n",
              "15:45:00     857\n",
              "15:15:00     827\n",
              "03:30:00     798\n",
              "Name: CrimeTime, dtype: int64"
            ]
          },
          "metadata": {},
          "execution_count": 203
        }
      ]
    },
    {
      "cell_type": "code",
      "source": [
        "spec_time.plot(kind= 'bar', figsize= (15, 6))"
      ],
      "metadata": {
        "colab": {
          "base_uri": "https://localhost:8080/",
          "height": 587
        },
        "id": "Fy0EFtytqbUw",
        "outputId": "a3b9d255-a2c1-4ac4-db64-7e73280498fa"
      },
      "execution_count": 202,
      "outputs": [
        {
          "output_type": "execute_result",
          "data": {
            "text/plain": [
              "<Axes: >"
            ]
          },
          "metadata": {},
          "execution_count": 202
        },
        {
          "output_type": "display_data",
          "data": {
            "text/plain": [
              "<Figure size 1500x600 with 1 Axes>"
            ],
            "image/png": "[encoded data removed]"
          },
          "metadata": {}
        }
      ]
    },
    {
      "cell_type": "code",
      "source": [
        "df['CrimeTime'].mode()"
      ],
      "metadata": {
        "colab": {
          "base_uri": "https://localhost:8080/"
        },
        "id": "CRd_1koj3Ahr",
        "outputId": "8d3dd673-3fb2-4947-f2d3-803c82b4cc89"
      },
      "execution_count": 48,
      "outputs": [
        {
          "output_type": "execute_result",
          "data": {
            "text/plain": [
              "0    18:00:00\n",
              "Name: CrimeTime, dtype: object"
            ]
          },
          "metadata": {},
          "execution_count": 48
        }
      ]
    },
    {
      "cell_type": "markdown",
      "source": [
        "## 5) When do most inside crimes happen during the day?"
      ],
      "metadata": {
        "id": "NpEr3-mQykqI"
      }
    },
    {
      "cell_type": "code",
      "source": [
        "mask1 = df['Inside/Outside']== 'Outside'"
      ],
      "metadata": {
        "id": "kEaxvAXi48qf"
      },
      "execution_count": 49,
      "outputs": []
    },
    {
      "cell_type": "code",
      "source": [
        "df_inside= df[~mask1]"
      ],
      "metadata": {
        "id": "xP6T9Fpx4JuZ"
      },
      "execution_count": 50,
      "outputs": []
    },
    {
      "cell_type": "code",
      "source": [
        "start = datetime.strptime('06:00:00', '%H:%M:%S').time()\n",
        "end = datetime.strptime('17:00:00', '%H:%M:%S').time()"
      ],
      "metadata": {
        "id": "E8VTkX6LJkkE"
      },
      "execution_count": 63,
      "outputs": []
    },
    {
      "cell_type": "code",
      "source": [
        "filt2=  (df_inside['CrimeTime']>= start) & (df_inside['CrimeTime']<= end)"
      ],
      "metadata": {
        "id": "4F77C_ptIZc9"
      },
      "execution_count": 64,
      "outputs": []
    },
    {
      "cell_type": "code",
      "source": [
        "df_inside['CrimeTime'].loc[filt2].mode()"
      ],
      "metadata": {
        "colab": {
          "base_uri": "https://localhost:8080/"
        },
        "id": "L2FqckvlH0Th",
        "outputId": "bad6cfd2-41d1-4ea6-9e39-d5f9e136c2c3"
      },
      "execution_count": 65,
      "outputs": [
        {
          "output_type": "execute_result",
          "data": {
            "text/plain": [
              "0    12:00:00\n",
              "Name: CrimeTime, dtype: object"
            ]
          },
          "metadata": {},
          "execution_count": 65
        }
      ]
    },
    {
      "cell_type": "code",
      "source": [
        "inside_outside_group= df.groupby(['Inside/Outside'])"
      ],
      "metadata": {
        "id": "IN10s7FwLA6u"
      },
      "execution_count": 56,
      "outputs": []
    },
    {
      "cell_type": "code",
      "source": [
        "df_inside2= inside_outside_group.get_group('Inside')"
      ],
      "metadata": {
        "id": "qhMIusyLLzlK"
      },
      "execution_count": 57,
      "outputs": []
    },
    {
      "cell_type": "code",
      "source": [
        "filt3=  (df_inside2['CrimeTime']>= start) & (df_inside2['CrimeTime']<= end)"
      ],
      "metadata": {
        "id": "IloKEDwdKgq-"
      },
      "execution_count": 61,
      "outputs": []
    },
    {
      "cell_type": "code",
      "source": [
        "df_inside2['CrimeTime'].loc[filt3].mode()"
      ],
      "metadata": {
        "colab": {
          "base_uri": "https://localhost:8080/"
        },
        "id": "XYYw1k0LMHk1",
        "outputId": "a218655d-6db2-4f1c-e442-c3ab2bd7392c"
      },
      "execution_count": 62,
      "outputs": [
        {
          "output_type": "execute_result",
          "data": {
            "text/plain": [
              "0    12:00:00\n",
              "Name: CrimeTime, dtype: object"
            ]
          },
          "metadata": {},
          "execution_count": 62
        }
      ]
    },
    {
      "cell_type": "markdown",
      "source": [
        "##Location-Based Questions"
      ],
      "metadata": {
        "id": "hioiYuZEyrzO"
      }
    },
    {
      "cell_type": "markdown",
      "source": [
        "## 1) What are the top 5 locations where crimes occurred?"
      ],
      "metadata": {
        "id": "0dR4AsdJyvS9"
      }
    },
    {
      "cell_type": "code",
      "source": [
        "df['Location'].value_counts().head()"
      ],
      "metadata": {
        "colab": {
          "base_uri": "https://localhost:8080/"
        },
        "id": "P3KOuB51yssj",
        "outputId": "f455004c-5d06-4df1-c2da-7772cdae4b3f"
      },
      "execution_count": 68,
      "outputs": [
        {
          "output_type": "execute_result",
          "data": {
            "text/plain": [
              "200 E PRATT ST     676\n",
              "300 LIGHT ST       603\n",
              "1500 RUSSELL ST    439\n",
              "3200 TIOGA PW      438\n",
              "1200 W PRATT ST    387\n",
              "Name: Location, dtype: int64"
            ]
          },
          "metadata": {},
          "execution_count": 68
        }
      ]
    },
    {
      "cell_type": "markdown",
      "source": [
        "## 2) Which district has the highest number of incidents?"
      ],
      "metadata": {
        "id": "CoUlLBWZyyfV"
      }
    },
    {
      "cell_type": "code",
      "source": [
        "df['District'].value_counts().idxmax()"
      ],
      "metadata": {
        "colab": {
          "base_uri": "https://localhost:8080/",
          "height": 35
        },
        "id": "mqz-78Ehy1-0",
        "outputId": "a741f39c-46c3-4166-ae65-f9e55b68d37a"
      },
      "execution_count": 69,
      "outputs": [
        {
          "output_type": "execute_result",
          "data": {
            "text/plain": [
              "'NORTHEASTERN'"
            ],
            "application/vnd.google.colaboratory.intrinsic+json": {
              "type": "string"
            }
          },
          "metadata": {},
          "execution_count": 69
        }
      ]
    },
    {
      "cell_type": "markdown",
      "source": [
        "## 3) Are there any neighborhoods that appear to be particularly safe or particularly at-risk?"
      ],
      "metadata": {
        "id": "DOUuB2WTy24m"
      }
    },
    {
      "cell_type": "code",
      "source": [
        "risk= df['Neighborhood'].value_counts().idxmax()\n",
        "print(f\"{risk} is a risk place to go.\")"
      ],
      "metadata": {
        "colab": {
          "base_uri": "https://localhost:8080/"
        },
        "id": "Eeqcuvziy6UV",
        "outputId": "2ccc1d1e-759b-4ddc-f600-a7a2e57dc13d"
      },
      "execution_count": 72,
      "outputs": [
        {
          "output_type": "stream",
          "name": "stdout",
          "text": [
            "Downtown is a risk place to go.\n"
          ]
        }
      ]
    },
    {
      "cell_type": "code",
      "source": [
        "safe= df['Neighborhood'].value_counts().idxmin()\n",
        "print(f\"{safe} is a safe place to go.\")"
      ],
      "metadata": {
        "colab": {
          "base_uri": "https://localhost:8080/"
        },
        "id": "gD4o2xTlDh_D",
        "outputId": "d5755b7c-ac3e-4447-d961-54663a88bf5d"
      },
      "execution_count": 73,
      "outputs": [
        {
          "output_type": "stream",
          "name": "stdout",
          "text": [
            "Dundalk Marine Terminal is a safe place to go.\n"
          ]
        }
      ]
    },
    {
      "cell_type": "code",
      "source": [
        "neigh_risk= df['Neighborhood'].value_counts()"
      ],
      "metadata": {
        "id": "S1vTHY9orF-P"
      },
      "execution_count": 204,
      "outputs": []
    },
    {
      "cell_type": "code",
      "source": [
        "neigh_risk"
      ],
      "metadata": {
        "colab": {
          "base_uri": "https://localhost:8080/"
        },
        "id": "Mho_IjhkrPC_",
        "outputId": "03460ab1-4d1c-492d-f535-d7e28fb9b6ea"
      },
      "execution_count": 205,
      "outputs": [
        {
          "output_type": "execute_result",
          "data": {
            "text/plain": [
              "Downtown                   9666\n",
              "Frankford                  6791\n",
              "Belair-Edison              6133\n",
              "Brooklyn                   4528\n",
              "Cherry Hill                4273\n",
              "                           ... \n",
              "Mt Pleasant Park             12\n",
              "Blythewood                    5\n",
              "Dundalk Marine Terminal       1\n",
              "NORTHEASTERN                  1\n",
              "EASTERN                       1\n",
              "Name: Neighborhood, Length: 280, dtype: int64"
            ]
          },
          "metadata": {},
          "execution_count": 205
        }
      ]
    },
    {
      "cell_type": "markdown",
      "source": [
        "##Descriptive Questions"
      ],
      "metadata": {
        "id": "DBElbre4y7es"
      }
    },
    {
      "cell_type": "markdown",
      "source": [
        "## 1) What are the most common descriptions for crimes in the dataset?"
      ],
      "metadata": {
        "id": "-vTc1pFqzW1l"
      }
    },
    {
      "cell_type": "code",
      "source": [
        "df['Description'].value_counts()"
      ],
      "metadata": {
        "colab": {
          "base_uri": "https://localhost:8080/"
        },
        "id": "vf-ZY1mPy_GC",
        "outputId": "6aabbc77-f032-41d1-cd70-159d335f9d1b"
      },
      "execution_count": 74,
      "outputs": [
        {
          "output_type": "execute_result",
          "data": {
            "text/plain": [
              "LARCENY                 62623\n",
              "COMMON ASSAULT          47881\n",
              "BURGLARY                44977\n",
              "LARCENY FROM AUTO       39024\n",
              "AGG. ASSAULT            27931\n",
              "AUTO THEFT              27093\n",
              "ROBBERY - STREET        17050\n",
              "ROBBERY - COMMERCIAL     3926\n",
              "ASSAULT BY THREAT        3581\n",
              "ROBBERY - RESIDENCE      2986\n",
              "SHOOTING                 2742\n",
              "RAPE                     1709\n",
              "ARSON                    1535\n",
              "HOMICIDE                 1470\n",
              "ROBBERY - CARJACKING     1279\n",
              "Name: Description, dtype: int64"
            ]
          },
          "metadata": {},
          "execution_count": 74
        }
      ]
    },
    {
      "cell_type": "code",
      "source": [
        "df['Description'].mode()"
      ],
      "metadata": {
        "colab": {
          "base_uri": "https://localhost:8080/"
        },
        "id": "mD0hN7hyELTo",
        "outputId": "130b6282-3754-4bfa-a4e3-130b38f4f3d8"
      },
      "execution_count": 75,
      "outputs": [
        {
          "output_type": "execute_result",
          "data": {
            "text/plain": [
              "0    LARCENY\n",
              "Name: Description, dtype: object"
            ]
          },
          "metadata": {},
          "execution_count": 75
        }
      ]
    },
    {
      "cell_type": "markdown",
      "source": [
        "## 2) How often did crimes occur inside versus outside?"
      ],
      "metadata": {
        "id": "peV4X_tpzb7v"
      }
    },
    {
      "cell_type": "code",
      "source": [
        "from unicodedata import normalize\n",
        "df['Inside/Outside'].value_counts(normalize)"
      ],
      "metadata": {
        "colab": {
          "base_uri": "https://localhost:8080/"
        },
        "id": "u_n-Pb3Wzfu6",
        "outputId": "de42969f-b93d-4e3f-da46-0678cb082db0"
      },
      "execution_count": 76,
      "outputs": [
        {
          "output_type": "execute_result",
          "data": {
            "text/plain": [
              "Inside     0.506127\n",
              "Outside    0.493873\n",
              "Name: Inside/Outside, dtype: float64"
            ]
          },
          "metadata": {},
          "execution_count": 76
        }
      ]
    },
    {
      "cell_type": "markdown",
      "source": [
        "##Weapon-Based Questions"
      ],
      "metadata": {
        "id": "EUQABUMuzg3j"
      }
    },
    {
      "cell_type": "markdown",
      "source": [
        "## 1) What types of weapons are most commonly used in crimes?"
      ],
      "metadata": {
        "id": "dZx68rwRzlmE"
      }
    },
    {
      "cell_type": "code",
      "source": [
        "df['Weapon'].loc[~filt0].value_counts(normalize)"
      ],
      "metadata": {
        "colab": {
          "base_uri": "https://localhost:8080/"
        },
        "id": "Kslg3GyYzggG",
        "outputId": "df8e316c-d6a3-4456-cce1-eb718aa25239"
      },
      "execution_count": 79,
      "outputs": [
        {
          "output_type": "execute_result",
          "data": {
            "text/plain": [
              "HANDS      0.530730\n",
              "FIREARM    0.217483\n",
              "OTHER      0.149185\n",
              "KNIFE      0.102602\n",
              "Name: Weapon, dtype: float64"
            ]
          },
          "metadata": {},
          "execution_count": 79
        }
      ]
    },
    {
      "cell_type": "code",
      "source": [
        "weapon_type= df['Weapon'].loc[~filt0].value_counts(normalize)"
      ],
      "metadata": {
        "id": "AtfHnMIcsWbc"
      },
      "execution_count": 211,
      "outputs": []
    },
    {
      "cell_type": "code",
      "source": [
        "weapon_type.plot(kind= 'pie')"
      ],
      "metadata": {
        "colab": {
          "base_uri": "https://localhost:8080/",
          "height": 423
        },
        "id": "AJAAc5vXsb1C",
        "outputId": "dfa28cdf-c914-467f-f8eb-ece4603d1c6f"
      },
      "execution_count": 212,
      "outputs": [
        {
          "output_type": "execute_result",
          "data": {
            "text/plain": [
              "<Axes: ylabel='Weapon'>"
            ]
          },
          "metadata": {},
          "execution_count": 212
        },
        {
          "output_type": "display_data",
          "data": {
            "text/plain": [
              "<Figure size 640x480 with 1 Axes>"
            ],
            "image/png": "[encoded data removed]"
          },
          "metadata": {}
        }
      ]
    },
    {
      "cell_type": "code",
      "source": [
        "df['Weapon'].loc[~filt0].mode()"
      ],
      "metadata": {
        "colab": {
          "base_uri": "https://localhost:8080/"
        },
        "id": "55T9qjN9M6e6",
        "outputId": "0f0cb505-dfb6-4985-a256-8dc23c9baffe"
      },
      "execution_count": 80,
      "outputs": [
        {
          "output_type": "execute_result",
          "data": {
            "text/plain": [
              "0    HANDS\n",
              "Name: Weapon, dtype: object"
            ]
          },
          "metadata": {},
          "execution_count": 80
        }
      ]
    },
    {
      "cell_type": "markdown",
      "source": [
        "##Questions Regarding Law Enforcement"
      ],
      "metadata": {
        "id": "5PSEbICKzqT1"
      }
    },
    {
      "cell_type": "markdown",
      "source": [
        "## 1) Are there specific police posts that have a higher number of incidents reported?"
      ],
      "metadata": {
        "id": "GThEwbwMzuYK"
      }
    },
    {
      "cell_type": "code",
      "source": [
        "df['Post'].value_counts()"
      ],
      "metadata": {
        "colab": {
          "base_uri": "https://localhost:8080/"
        },
        "id": "bI2AqFzoztjx",
        "outputId": "5e8289e2-0f12-48fa-a5b3-ed5759e6f807"
      },
      "execution_count": 215,
      "outputs": [
        {
          "output_type": "execute_result",
          "data": {
            "text/plain": [
              "111.0    9776\n",
              "212.0    4982\n",
              "922.0    4655\n",
              "211.0    4513\n",
              "913.0    4470\n",
              "         ... \n",
              "0.7         1\n",
              "0.6         1\n",
              "2.1         1\n",
              "1.2         1\n",
              "1.0         1\n",
              "Name: Post, Length: 189, dtype: int64"
            ]
          },
          "metadata": {},
          "execution_count": 215
        }
      ]
    },
    {
      "cell_type": "code",
      "source": [
        "df['Post'].mode()"
      ],
      "metadata": {
        "colab": {
          "base_uri": "https://localhost:8080/"
        },
        "id": "whFTw6kTs-_5",
        "outputId": "65770be6-24ec-4c8f-9b99-9b01314b5ae9"
      },
      "execution_count": 216,
      "outputs": [
        {
          "output_type": "execute_result",
          "data": {
            "text/plain": [
              "0    111.0\n",
              "Name: Post, dtype: float64"
            ]
          },
          "metadata": {},
          "execution_count": 216
        }
      ]
    },
    {
      "cell_type": "markdown",
      "source": [
        "##Combined Queries"
      ],
      "metadata": {
        "id": "9tS-27XMzzQT"
      }
    },
    {
      "cell_type": "markdown",
      "source": [
        "## 1) Are incidents involving weapons more likely to occur inside or outside?"
      ],
      "metadata": {
        "id": "XnjmJaOqz226"
      }
    },
    {
      "cell_type": "code",
      "source": [
        "mask = df['Weapon']== 'no-evidence'"
      ],
      "metadata": {
        "id": "QyGfGH69z2IE"
      },
      "execution_count": 82,
      "outputs": []
    },
    {
      "cell_type": "code",
      "source": [
        "df_weapon= df[~mask]"
      ],
      "metadata": {
        "id": "SSoAoHRGG_Of"
      },
      "execution_count": 83,
      "outputs": []
    },
    {
      "cell_type": "code",
      "source": [
        "df_weapon['Inside/Outside'].value_counts(normalize)"
      ],
      "metadata": {
        "colab": {
          "base_uri": "https://localhost:8080/"
        },
        "id": "WZCImiSGHMaM",
        "outputId": "c9fe357c-bc6c-4e60-8e3d-9d74cd34edf8"
      },
      "execution_count": 84,
      "outputs": [
        {
          "output_type": "execute_result",
          "data": {
            "text/plain": [
              "Inside     0.527542\n",
              "Outside    0.472458\n",
              "Name: Inside/Outside, dtype: float64"
            ]
          },
          "metadata": {},
          "execution_count": 84
        }
      ]
    },
    {
      "cell_type": "markdown",
      "source": [
        "## 2) In which district and neighborhood combination do the most violent crimes (based on description or weapon used) occur?"
      ],
      "metadata": {
        "id": "PB4DYcmNz6d2"
      }
    },
    {
      "cell_type": "code",
      "source": [
        "grouped = df.groupby(['District', 'Neighborhood'])['Weapon'].value_counts()"
      ],
      "metadata": {
        "id": "6FQBzPjiPI7p"
      },
      "execution_count": 101,
      "outputs": []
    },
    {
      "cell_type": "code",
      "source": [
        "grouped"
      ],
      "metadata": {
        "colab": {
          "base_uri": "https://localhost:8080/"
        },
        "id": "SxrKgQBoPQr0",
        "outputId": "2817e363-42c0-4aed-f254-395468aaabc6"
      },
      "execution_count": 220,
      "outputs": [
        {
          "output_type": "execute_result",
          "data": {
            "text/plain": [
              "District  Neighborhood  Weapon     \n",
              "CENTRAL   Barclay       no-evidence    40\n",
              "                        HANDS           7\n",
              "                        FIREARM         3\n",
              "                        KNIFE           2\n",
              "                        OTHER           2\n",
              "                                       ..\n",
              "WESTERN   Upton         KNIFE           1\n",
              "          Walbrook      no-evidence    15\n",
              "                        HANDS           4\n",
              "                        KNIFE           2\n",
              "                        OTHER           1\n",
              "Name: Weapon, Length: 1682, dtype: int64"
            ]
          },
          "metadata": {},
          "execution_count": 220
        }
      ]
    },
    {
      "cell_type": "code",
      "source": [
        "grouped.idxmax()"
      ],
      "metadata": {
        "colab": {
          "base_uri": "https://localhost:8080/"
        },
        "id": "jXLkcmG3QR-N",
        "outputId": "b979895e-fc20-4526-cb33-ab8194e7084c"
      },
      "execution_count": 103,
      "outputs": [
        {
          "output_type": "execute_result",
          "data": {
            "text/plain": [
              "('CENTRAL', 'Downtown', 'no-evidence')"
            ]
          },
          "metadata": {},
          "execution_count": 103
        }
      ]
    },
    {
      "cell_type": "code",
      "source": [
        "grouped2 = df.groupby(['District', 'Neighborhood'])['Description'].value_counts()"
      ],
      "metadata": {
        "id": "vzDNfDmaQfuF"
      },
      "execution_count": 104,
      "outputs": []
    },
    {
      "cell_type": "code",
      "source": [
        "grouped2"
      ],
      "metadata": {
        "colab": {
          "base_uri": "https://localhost:8080/"
        },
        "id": "DMhYNx0YQlpN",
        "outputId": "c587bdde-bc32-44f2-c9ca-1cce607672b4"
      },
      "execution_count": 105,
      "outputs": [
        {
          "output_type": "execute_result",
          "data": {
            "text/plain": [
              "District  Neighborhood  Description      \n",
              "CENTRAL   Barclay       LARCENY FROM AUTO    19\n",
              "                        LARCENY               8\n",
              "                        COMMON ASSAULT        7\n",
              "                        AUTO THEFT            6\n",
              "                        BURGLARY              6\n",
              "                                             ..\n",
              "WESTERN   Walbrook      BURGLARY              9\n",
              "                        AUTO THEFT            6\n",
              "                        COMMON ASSAULT        4\n",
              "                        AGG. ASSAULT          2\n",
              "                        HOMICIDE              1\n",
              "Name: Description, Length: 4412, dtype: int64"
            ]
          },
          "metadata": {},
          "execution_count": 105
        }
      ]
    },
    {
      "cell_type": "code",
      "source": [
        "grouped2.idxmax()"
      ],
      "metadata": {
        "colab": {
          "base_uri": "https://localhost:8080/"
        },
        "id": "E4phR0JQQphl",
        "outputId": "32b6ee93-02e6-40f1-ccaa-6d794bce8861"
      },
      "execution_count": 106,
      "outputs": [
        {
          "output_type": "execute_result",
          "data": {
            "text/plain": [
              "('CENTRAL', 'Downtown', 'LARCENY')"
            ]
          },
          "metadata": {},
          "execution_count": 106
        }
      ]
    },
    {
      "cell_type": "markdown",
      "source": [
        "## 3) Is there a seasonal trend in the types of crimes committed (e.g., more thefts in summer)?"
      ],
      "metadata": {
        "id": "sfbmSHjnz_pr"
      }
    },
    {
      "cell_type": "code",
      "source": [
        "df.head()"
      ],
      "metadata": {
        "colab": {
          "base_uri": "https://localhost:8080/",
          "height": 431
        },
        "id": "N5JZsKKASJvA",
        "outputId": "fbd3267d-04e9-4474-87b8-e5619beee861"
      },
      "execution_count": 162,
      "outputs": [
        {
          "output_type": "execute_result",
          "data": {
            "text/plain": [
              "                     CrimeDate CrimeTime CrimeCode         Location  \\\n",
              "CrimeDateTime                                                         \n",
              "2011-01-01 00:00:00 2011-01-01  00:00:00        6E   2700 HARLEM AV   \n",
              "2011-01-01 00:00:00 2011-01-01  00:00:00        6G     0 E CROSS ST   \n",
              "2011-01-01 00:01:00 2011-01-01  00:01:00        6J    0 E OSTEND ST   \n",
              "2011-01-01 00:01:00 2011-01-01  00:01:00        6G  700 RAPPOLLA ST   \n",
              "2011-01-01 00:05:00 2011-01-01  00:05:00        4B  5200 MORAVIA RD   \n",
              "\n",
              "                      Description Inside/Outside       Weapon   Post  \\\n",
              "CrimeDateTime                                                          \n",
              "2011-01-01 00:00:00       LARCENY        Outside  no-evidence  721.0   \n",
              "2011-01-01 00:00:00       LARCENY         Inside  no-evidence  942.0   \n",
              "2011-01-01 00:01:00       LARCENY         Inside  no-evidence  942.0   \n",
              "2011-01-01 00:01:00       LARCENY         Inside  no-evidence  242.0   \n",
              "2011-01-01 00:05:00  AGG. ASSAULT         Inside        KNIFE  443.0   \n",
              "\n",
              "                         District  Neighborhood  \\\n",
              "CrimeDateTime                                     \n",
              "2011-01-01 00:00:00       WESTERN        Mosher   \n",
              "2011-01-01 00:00:00      SOUTHERN  Federal Hill   \n",
              "2011-01-01 00:01:00      SOUTHERN  Federal Hill   \n",
              "2011-01-01 00:01:00  SOUTHEASTERN     Greektown   \n",
              "2011-01-01 00:05:00  NORTHEASTERN     Frankford   \n",
              "\n",
              "                                          Location 1  Total Incidents  \\\n",
              "CrimeDateTime                                                           \n",
              "2011-01-01 00:00:00  (39.2956000000, -76.6615600000)                1   \n",
              "2011-01-01 00:00:00  (39.2769600000, -76.6133800000)                1   \n",
              "2011-01-01 00:01:00  (39.2748200000, -76.6128000000)                1   \n",
              "2011-01-01 00:01:00  (39.2849900000, -76.5528100000)                1   \n",
              "2011-01-01 00:05:00  (39.3235300000, -76.5496600000)                1   \n",
              "\n",
              "                    DayofWeek  season  year  \n",
              "CrimeDateTime                                \n",
              "2011-01-01 00:00:00  Saturday  winter  2011  \n",
              "2011-01-01 00:00:00  Saturday  winter  2011  \n",
              "2011-01-01 00:01:00  Saturday  winter  2011  \n",
              "2011-01-01 00:01:00  Saturday  winter  2011  \n",
              "2011-01-01 00:05:00  Saturday  winter  2011  "
            ],
            "text/html": [
              "\n",
              "  <div id=\"df-7eda8260-3c07-4251-a7f6-52bdf33b133e\" class=\"colab-df-container\">\n",
              "    <div>\n",
              "<style scoped>\n",
              "    .dataframe tbody tr th:only-of-type {\n",
              "        vertical-align: middle;\n",
              "    }\n",
              "\n",
              "    .dataframe tbody tr th {\n",
              "        vertical-align: top;\n",
              "    }\n",
              "\n",
              "    .dataframe thead th {\n",
              "        text-align: right;\n",
              "    }\n",
              "</style>\n",
              "<table border=\"1\" class=\"dataframe\">\n",
              "  <thead>\n",
              "    <tr style=\"text-align: right;\">\n",
              "      <th></th>\n",
              "      <th>CrimeDate</th>\n",
              "      <th>CrimeTime</th>\n",
              "      <th>CrimeCode</th>\n",
              "      <th>Location</th>\n",
              "      <th>Description</th>\n",
              "      <th>Inside/Outside</th>\n",
              "      <th>Weapon</th>\n",
              "      <th>Post</th>\n",
              "      <th>District</th>\n",
              "      <th>Neighborhood</th>\n",
              "      <th>Location 1</th>\n",
              "      <th>Total Incidents</th>\n",
              "      <th>DayofWeek</th>\n",
              "      <th>season</th>\n",
              "      <th>year</th>\n",
              "    </tr>\n",
              "    <tr>\n",
              "      <th>CrimeDateTime</th>\n",
              "      <th></th>\n",
              "      <th></th>\n",
              "      <th></th>\n",
              "      <th></th>\n",
              "      <th></th>\n",
              "      <th></th>\n",
              "      <th></th>\n",
              "      <th></th>\n",
              "      <th></th>\n",
              "      <th></th>\n",
              "      <th></th>\n",
              "      <th></th>\n",
              "      <th></th>\n",
              "      <th></th>\n",
              "      <th></th>\n",
              "    </tr>\n",
              "  </thead>\n",
              "  <tbody>\n",
              "    <tr>\n",
              "      <th>2011-01-01 00:00:00</th>\n",
              "      <td>2011-01-01</td>\n",
              "      <td>00:00:00</td>\n",
              "      <td>6E</td>\n",
              "      <td>2700 HARLEM AV</td>\n",
              "      <td>LARCENY</td>\n",
              "      <td>Outside</td>\n",
              "      <td>no-evidence</td>\n",
              "      <td>721.0</td>\n",
              "      <td>WESTERN</td>\n",
              "      <td>Mosher</td>\n",
              "      <td>(39.2956000000, -76.6615600000)</td>\n",
              "      <td>1</td>\n",
              "      <td>Saturday</td>\n",
              "      <td>winter</td>\n",
              "      <td>2011</td>\n",
              "    </tr>\n",
              "    <tr>\n",
              "      <th>2011-01-01 00:00:00</th>\n",
              "      <td>2011-01-01</td>\n",
              "      <td>00:00:00</td>\n",
              "      <td>6G</td>\n",
              "      <td>0 E CROSS ST</td>\n",
              "      <td>LARCENY</td>\n",
              "      <td>Inside</td>\n",
              "      <td>no-evidence</td>\n",
              "      <td>942.0</td>\n",
              "      <td>SOUTHERN</td>\n",
              "      <td>Federal Hill</td>\n",
              "      <td>(39.2769600000, -76.6133800000)</td>\n",
              "      <td>1</td>\n",
              "      <td>Saturday</td>\n",
              "      <td>winter</td>\n",
              "      <td>2011</td>\n",
              "    </tr>\n",
              "    <tr>\n",
              "      <th>2011-01-01 00:01:00</th>\n",
              "      <td>2011-01-01</td>\n",
              "      <td>00:01:00</td>\n",
              "      <td>6J</td>\n",
              "      <td>0 E OSTEND ST</td>\n",
              "      <td>LARCENY</td>\n",
              "      <td>Inside</td>\n",
              "      <td>no-evidence</td>\n",
              "      <td>942.0</td>\n",
              "      <td>SOUTHERN</td>\n",
              "      <td>Federal Hill</td>\n",
              "      <td>(39.2748200000, -76.6128000000)</td>\n",
              "      <td>1</td>\n",
              "      <td>Saturday</td>\n",
              "      <td>winter</td>\n",
              "      <td>2011</td>\n",
              "    </tr>\n",
              "    <tr>\n",
              "      <th>2011-01-01 00:01:00</th>\n",
              "      <td>2011-01-01</td>\n",
              "      <td>00:01:00</td>\n",
              "      <td>6G</td>\n",
              "      <td>700 RAPPOLLA ST</td>\n",
              "      <td>LARCENY</td>\n",
              "      <td>Inside</td>\n",
              "      <td>no-evidence</td>\n",
              "      <td>242.0</td>\n",
              "      <td>SOUTHEASTERN</td>\n",
              "      <td>Greektown</td>\n",
              "      <td>(39.2849900000, -76.5528100000)</td>\n",
              "      <td>1</td>\n",
              "      <td>Saturday</td>\n",
              "      <td>winter</td>\n",
              "      <td>2011</td>\n",
              "    </tr>\n",
              "    <tr>\n",
              "      <th>2011-01-01 00:05:00</th>\n",
              "      <td>2011-01-01</td>\n",
              "      <td>00:05:00</td>\n",
              "      <td>4B</td>\n",
              "      <td>5200 MORAVIA RD</td>\n",
              "      <td>AGG. ASSAULT</td>\n",
              "      <td>Inside</td>\n",
              "      <td>KNIFE</td>\n",
              "      <td>443.0</td>\n",
              "      <td>NORTHEASTERN</td>\n",
              "      <td>Frankford</td>\n",
              "      <td>(39.3235300000, -76.5496600000)</td>\n",
              "      <td>1</td>\n",
              "      <td>Saturday</td>\n",
              "      <td>winter</td>\n",
              "      <td>2011</td>\n",
              "    </tr>\n",
              "  </tbody>\n",
              "</table>\n",
              "</div>\n",
              "    <div class=\"colab-df-buttons\">\n",
              "\n",
              "  <div class=\"colab-df-container\">\n",
              "    <button class=\"colab-df-convert\" onclick=\"convertToInteractive('df-7eda8260-3c07-4251-a7f6-52bdf33b133e')\"\n",
              "            title=\"Convert this dataframe to an interactive table.\"\n",
              "            style=\"display:none;\">\n",
              "\n",
              "  <svg xmlns=\"http://www.w3.org/2000/svg\" height=\"24px\" viewBox=\"0 -960 960 960\">\n",
              "    <path d=\"M120-120v-720h720v720H120Zm60-500h600v-160H180v160Zm220 220h160v-160H400v160Zm0 220h160v-160H400v160ZM180-400h160v-160H180v160Zm440 0h160v-160H620v160ZM180-180h160v-160H180v160Zm440 0h160v-160H620v160Z\"/>\n",
              "  </svg>\n",
              "    </button>\n",
              "\n",
              "  <style>\n",
              "    .colab-df-container {\n",
              "      display:flex;\n",
              "      gap: 12px;\n",
              "    }\n",
              "\n",
              "    .colab-df-convert {\n",
              "      background-color: #E8F0FE;\n",
              "      border: none;\n",
              "      border-radius: 50%;\n",
              "      cursor: pointer;\n",
              "      display: none;\n",
              "      fill: #1967D2;\n",
              "      height: 32px;\n",
              "      padding: 0 0 0 0;\n",
              "      width: 32px;\n",
              "    }\n",
              "\n",
              "    .colab-df-convert:hover {\n",
              "      background-color: #E2EBFA;\n",
              "      box-shadow: 0px 1px 2px rgba(60, 64, 67, 0.3), 0px 1px 3px 1px rgba(60, 64, 67, 0.15);\n",
              "      fill: #174EA6;\n",
              "    }\n",
              "\n",
              "    .colab-df-buttons div {\n",
              "      margin-bottom: 4px;\n",
              "    }\n",
              "\n",
              "    [theme=dark] .colab-df-convert {\n",
              "      background-color: #3B4455;\n",
              "      fill: #D2E3FC;\n",
              "    }\n",
              "\n",
              "    [theme=dark] .colab-df-convert:hover {\n",
              "      background-color: #434B5C;\n",
              "      box-shadow: 0px 1px 3px 1px rgba(0, 0, 0, 0.15);\n",
              "      filter: drop-shadow(0px 1px 2px rgba(0, 0, 0, 0.3));\n",
              "      fill: #FFFFFF;\n",
              "    }\n",
              "  </style>\n",
              "\n",
              "    <script>\n",
              "      const buttonEl =\n",
              "        document.querySelector('#df-7eda8260-3c07-4251-a7f6-52bdf33b133e button.colab-df-convert');\n",
              "      buttonEl.style.display =\n",
              "        google.colab.kernel.accessAllowed ? 'block' : 'none';\n",
              "\n",
              "      async function convertToInteractive(key) {\n",
              "        const element = document.querySelector('#df-7eda8260-3c07-4251-a7f6-52bdf33b133e');\n",
              "        const dataTable =\n",
              "          await google.colab.kernel.invokeFunction('convertToInteractive',\n",
              "                                                    [key], {});\n",
              "        if (!dataTable) return;\n",
              "\n",
              "        const docLinkHtml = 'Like what you see? Visit the ' +\n",
              "          '<a target=\"_blank\" href=https://colab.research.google.com/notebooks/data_table.ipynb>data table notebook</a>'\n",
              "          + ' to learn more about interactive tables.';\n",
              "        element.innerHTML = '';\n",
              "        dataTable['output_type'] = 'display_data';\n",
              "        await google.colab.output.renderOutput(dataTable, element);\n",
              "        const docLink = document.createElement('div');\n",
              "        docLink.innerHTML = docLinkHtml;\n",
              "        element.appendChild(docLink);\n",
              "      }\n",
              "    </script>\n",
              "  </div>\n",
              "\n",
              "\n",
              "<div id=\"df-f7aa50d9-7f8e-4a64-b5be-f06db70e4083\">\n",
              "  <button class=\"colab-df-quickchart\" onclick=\"quickchart('df-f7aa50d9-7f8e-4a64-b5be-f06db70e4083')\"\n",
              "            title=\"Suggest charts.\"\n",
              "            style=\"display:none;\">\n",
              "\n",
              "<svg xmlns=\"http://www.w3.org/2000/svg\" height=\"24px\"viewBox=\"0 0 24 24\"\n",
              "     width=\"24px\">\n",
              "    <g>\n",
              "        <path d=\"M19 3H5c-1.1 0-2 .9-2 2v14c0 1.1.9 2 2 2h14c1.1 0 2-.9 2-2V5c0-1.1-.9-2-2-2zM9 17H7v-7h2v7zm4 0h-2V7h2v10zm4 0h-2v-4h2v4z\"/>\n",
              "    </g>\n",
              "</svg>\n",
              "  </button>\n",
              "\n",
              "<style>\n",
              "  .colab-df-quickchart {\n",
              "      --bg-color: #E8F0FE;\n",
              "      --fill-color: #1967D2;\n",
              "      --hover-bg-color: #E2EBFA;\n",
              "      --hover-fill-color: #174EA6;\n",
              "      --disabled-fill-color: #AAA;\n",
              "      --disabled-bg-color: #DDD;\n",
              "  }\n",
              "\n",
              "  [theme=dark] .colab-df-quickchart {\n",
              "      --bg-color: #3B4455;\n",
              "      --fill-color: #D2E3FC;\n",
              "      --hover-bg-color: #434B5C;\n",
              "      --hover-fill-color: #FFFFFF;\n",
              "      --disabled-bg-color: #3B4455;\n",
              "      --disabled-fill-color: #666;\n",
              "  }\n",
              "\n",
              "  .colab-df-quickchart {\n",
              "    background-color: var(--bg-color);\n",
              "    border: none;\n",
              "    border-radius: 50%;\n",
              "    cursor: pointer;\n",
              "    display: none;\n",
              "    fill: var(--fill-color);\n",
              "    height: 32px;\n",
              "    padding: 0;\n",
              "    width: 32px;\n",
              "  }\n",
              "\n",
              "  .colab-df-quickchart:hover {\n",
              "    background-color: var(--hover-bg-color);\n",
              "    box-shadow: 0 1px 2px rgba(60, 64, 67, 0.3), 0 1px 3px 1px rgba(60, 64, 67, 0.15);\n",
              "    fill: var(--button-hover-fill-color);\n",
              "  }\n",
              "\n",
              "  .colab-df-quickchart-complete:disabled,\n",
              "  .colab-df-quickchart-complete:disabled:hover {\n",
              "    background-color: var(--disabled-bg-color);\n",
              "    fill: var(--disabled-fill-color);\n",
              "    box-shadow: none;\n",
              "  }\n",
              "\n",
              "  .colab-df-spinner {\n",
              "    border: 2px solid var(--fill-color);\n",
              "    border-color: transparent;\n",
              "    border-bottom-color: var(--fill-color);\n",
              "    animation:\n",
              "      spin 1s steps(1) infinite;\n",
              "  }\n",
              "\n",
              "  @keyframes spin {\n",
              "    0% {\n",
              "      border-color: transparent;\n",
              "      border-bottom-color: var(--fill-color);\n",
              "      border-left-color: var(--fill-color);\n",
              "    }\n",
              "    20% {\n",
              "      border-color: transparent;\n",
              "      border-left-color: var(--fill-color);\n",
              "      border-top-color: var(--fill-color);\n",
              "    }\n",
              "    30% {\n",
              "      border-color: transparent;\n",
              "      border-left-color: var(--fill-color);\n",
              "      border-top-color: var(--fill-color);\n",
              "      border-right-color: var(--fill-color);\n",
              "    }\n",
              "    40% {\n",
              "      border-color: transparent;\n",
              "      border-right-color: var(--fill-color);\n",
              "      border-top-color: var(--fill-color);\n",
              "    }\n",
              "    60% {\n",
              "      border-color: transparent;\n",
              "      border-right-color: var(--fill-color);\n",
              "    }\n",
              "    80% {\n",
              "      border-color: transparent;\n",
              "      border-right-color: var(--fill-color);\n",
              "      border-bottom-color: var(--fill-color);\n",
              "    }\n",
              "    90% {\n",
              "      border-color: transparent;\n",
              "      border-bottom-color: var(--fill-color);\n",
              "    }\n",
              "  }\n",
              "</style>\n",
              "\n",
              "  <script>\n",
              "    async function quickchart(key) {\n",
              "      const quickchartButtonEl =\n",
              "        document.querySelector('#' + key + ' button');\n",
              "      quickchartButtonEl.disabled = true;  // To prevent multiple clicks.\n",
              "      quickchartButtonEl.classList.add('colab-df-spinner');\n",
              "      try {\n",
              "        const charts = await google.colab.kernel.invokeFunction(\n",
              "            'suggestCharts', [key], {});\n",
              "      } catch (error) {\n",
              "        console.error('Error during call to suggestCharts:', error);\n",
              "      }\n",
              "      quickchartButtonEl.classList.remove('colab-df-spinner');\n",
              "      quickchartButtonEl.classList.add('colab-df-quickchart-complete');\n",
              "    }\n",
              "    (() => {\n",
              "      let quickchartButtonEl =\n",
              "        document.querySelector('#df-f7aa50d9-7f8e-4a64-b5be-f06db70e4083 button');\n",
              "      quickchartButtonEl.style.display =\n",
              "        google.colab.kernel.accessAllowed ? 'block' : 'none';\n",
              "    })();\n",
              "  </script>\n",
              "</div>\n",
              "    </div>\n",
              "  </div>\n"
            ]
          },
          "metadata": {},
          "execution_count": 162
        }
      ]
    },
    {
      "cell_type": "code",
      "source": [
        "df['year']= df['CrimeDate'].dt.year"
      ],
      "metadata": {
        "id": "fqcbSVrZWQxr"
      },
      "execution_count": 137,
      "outputs": []
    },
    {
      "cell_type": "code",
      "source": [
        "df['year']"
      ],
      "metadata": {
        "colab": {
          "base_uri": "https://localhost:8080/"
        },
        "id": "1FCllCKiWRO7",
        "outputId": "75df1420-f929-4c6a-f7a2-07d109667cf3"
      },
      "execution_count": 138,
      "outputs": [
        {
          "output_type": "execute_result",
          "data": {
            "text/plain": [
              "CrimeDateTime\n",
              "2011-01-01 00:00:00    2011\n",
              "2011-01-01 00:00:00    2011\n",
              "2011-01-01 00:01:00    2011\n",
              "2011-01-01 00:01:00    2011\n",
              "2011-01-01 00:05:00    2011\n",
              "                       ... \n",
              "2016-11-12 22:40:00    2016\n",
              "2016-11-12 22:47:00    2016\n",
              "2016-11-12 23:30:00    2016\n",
              "2016-11-12 23:40:00    2016\n",
              "2016-11-12 23:54:00    2016\n",
              "Name: year, Length: 285807, dtype: int64"
            ]
          },
          "metadata": {},
          "execution_count": 138
        }
      ]
    },
    {
      "cell_type": "code",
      "source": [
        "trend= df.groupby(['year','season', 'Description'])['Total Incidents'].sum()"
      ],
      "metadata": {
        "id": "-t9jXtoxRqBp"
      },
      "execution_count": 151,
      "outputs": []
    },
    {
      "cell_type": "code",
      "source": [
        "trend.head(50)"
      ],
      "metadata": {
        "colab": {
          "base_uri": "https://localhost:8080/"
        },
        "id": "a0UrWpQ6TqMU",
        "outputId": "5a3a0486-9121-4d5e-e734-87fec77e2f86"
      },
      "execution_count": 157,
      "outputs": [
        {
          "output_type": "execute_result",
          "data": {
            "text/plain": [
              "year  season  Description         \n",
              "2011  autumn  AGG. ASSAULT            1185\n",
              "              ARSON                     81\n",
              "              ASSAULT BY THREAT        156\n",
              "              AUTO THEFT              1025\n",
              "              BURGLARY                2441\n",
              "              COMMON ASSAULT          2355\n",
              "              HOMICIDE                  41\n",
              "              LARCENY                 2661\n",
              "              LARCENY FROM AUTO       1848\n",
              "              RAPE                      83\n",
              "              ROBBERY - CARJACKING      47\n",
              "              ROBBERY - COMMERCIAL     182\n",
              "              ROBBERY - RESIDENCE      125\n",
              "              ROBBERY - STREET         676\n",
              "              SHOOTING                  83\n",
              "      spring  AGG. ASSAULT            1386\n",
              "              ARSON                     80\n",
              "              ASSAULT BY THREAT        193\n",
              "              AUTO THEFT              1090\n",
              "              BURGLARY                2013\n",
              "              COMMON ASSAULT          2668\n",
              "              HOMICIDE                  62\n",
              "              LARCENY                 2593\n",
              "              LARCENY FROM AUTO       1863\n",
              "              RAPE                     108\n",
              "              ROBBERY - CARJACKING      44\n",
              "              ROBBERY - COMMERCIAL     124\n",
              "              ROBBERY - RESIDENCE      148\n",
              "              ROBBERY - STREET         588\n",
              "              SHOOTING                 116\n",
              "      summer  AGG. ASSAULT            1366\n",
              "              ARSON                     92\n",
              "              ASSAULT BY THREAT        174\n",
              "              AUTO THEFT              1235\n",
              "              BURGLARY                2485\n",
              "              COMMON ASSAULT          2414\n",
              "              HOMICIDE                  55\n",
              "              LARCENY                 2776\n",
              "              LARCENY FROM AUTO       2038\n",
              "              RAPE                      81\n",
              "              ROBBERY - CARJACKING      68\n",
              "              ROBBERY - COMMERCIAL     153\n",
              "              ROBBERY - RESIDENCE      143\n",
              "              ROBBERY - STREET         748\n",
              "              SHOOTING                 102\n",
              "      winter  AGG. ASSAULT            1179\n",
              "              ARSON                     46\n",
              "              ASSAULT BY THREAT        141\n",
              "              AUTO THEFT               869\n",
              "              BURGLARY                1818\n",
              "Name: Total Incidents, dtype: int64"
            ]
          },
          "metadata": {},
          "execution_count": 157
        }
      ]
    },
    {
      "cell_type": "code",
      "source": [
        "trend.plot(table= True, figsize= (15, 6))"
      ],
      "metadata": {
        "colab": {
          "base_uri": "https://localhost:8080/",
          "height": 545
        },
        "id": "WLBw1QrIWpL_",
        "outputId": "7c510862-00f9-4f95-b836-3419d45a7fbf"
      },
      "execution_count": 187,
      "outputs": [
        {
          "output_type": "execute_result",
          "data": {
            "text/plain": [
              "<Axes: xlabel='year,season,Description'>"
            ]
          },
          "metadata": {},
          "execution_count": 187
        },
        {
          "output_type": "display_data",
          "data": {
            "text/plain": [
              "<Figure size 1500x600 with 1 Axes>"
            ],
            "image/png": "[encoded data removed]"
          },
          "metadata": {}
        }
      ]
    },
    {
      "cell_type": "code",
      "source": [],
      "metadata": {
        "id": "3uKkvgdRjPSo"
      },
      "execution_count": null,
      "outputs": []
    }
  ]
}